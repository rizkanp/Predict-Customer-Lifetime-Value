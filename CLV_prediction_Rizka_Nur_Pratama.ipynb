{
  "cells": [
    {
      "metadata": {
        "id": "VxJrWH0Jt7Fu"
      },
      "cell_type": "markdown",
      "source": [
        "# Business Understanding \n",
        "\n",
        "Customer Lifetime Value (CLV) adalah salah satu indikator yang digunakan untuk menentukan nilai dari pelanggan sebuah perusahaan. Metrik ini dinilai akurat sehingga banyak digunakan oleh perusahaan dalam menghitung nilai pelanggan mereka.\n",
        "\n",
        "Ada banyak faktor yang dapat memengaruhi kesuksesan sebuah usaha. Pelanggan atau customer adalah salah satu faktor utama yang menentukan kesuksesaan perusahaan. Maka dari itu, tidak mengherankan jika perusahaan harus menemukan metrik yang digunakan untuk mengukur nilai seorang pelanggan terhadap perusahaan.\n",
        "\n",
        "Salah satunya adalah Customer Lifetime Value. Perhitungan ini sering digunakan untuk mengukur nilai pelanggan. Jika diterjemahkan secara harfiah, CLV berarti nilai umur pelanggan. Apa yang dimaksud dengan umur pelanggan di sini bukanlah umur pelanggan dilihat dari tahun kelahirannya, melainkan dari rentang waktu ia menggunakan produk atau jasa dari perusahaan.\n",
        "\n",
        "Lebih jelas lagi, CLV adalah sebuah metrik untuk memperkirakan total nilai pelanggan terhadap sebuah perusahaan dalam jangka waktu tertentu (mengikuti durasi hubungan bisnis keduanya). Secara sederhana, CLV adalah prediksi atas nilai total pendapatan yang bisa didapatkan dari pelanggan tersebut.\n",
        "\n"
      ]
    },
    {
      "cell_type": "markdown",
      "source": [
        "**Goal: Predict Nilai Customer Lifetime Value (CLV ) untuk Perusahaan Asuransi Kendaraan.**\n",
        "\n",
        "Ada banyak keuntungan yang bisa Anda dapat dari CLV. \n",
        "- Perusahaan dapat mengetahui mana pelanggan yang nilainya paling tinggi. \n",
        "- Mengidentifikasi dan menganalisis perilaku pelanggan selama periode tertentu\n",
        "- Memprediksi perilaku pelanggan di masa mendatang untuk meningkatkan loyalitas"
      ],
      "metadata": {
        "id": "NvUr0hpSAtXN"
      }
    },
    {
      "cell_type": "markdown",
      "source": [
        "# Data Understanding"
      ],
      "metadata": {
        "id": "fi09hY2sD3iL"
      }
    },
    {
      "metadata": {
        "trusted": false,
        "id": "k3daC4g7t7Fp"
      },
      "cell_type": "code",
      "source": [
        "import matplotlib.pyplot as plt\n",
        "import numpy as np\n",
        "import pandas as pd\n",
        "from sklearn.linear_model import LinearRegression\n",
        "from sklearn.model_selection import train_test_split\n",
        "from sklearn.metrics import mean_absolute_error\n",
        "import statsmodels.api as sm\n",
        "from statsmodels.tools.eval_measures import mse, rmse\n",
        "import seaborn as sns\n",
        "import scipy.stats as stats\n",
        "from scipy.stats.mstats import winsorize\n",
        "from datetime import datetime\n",
        "import json\n",
        "from wordcloud import WordCloud\n",
        "\n",
        "%matplotlib inline\n",
        "pd.options.display.float_format = '{:.2f}'.format\n",
        "\n",
        "import warnings\n",
        "warnings.filterwarnings(action=\"ignore\")"
      ],
      "execution_count": 1,
      "outputs": []
    },
    {
      "cell_type": "code",
      "source": [
        "from google.colab import drive\n",
        "drive.mount('/content/drive')"
      ],
      "metadata": {
        "colab": {
          "base_uri": "https://localhost:8080/"
        },
        "id": "yaN6sdfDxcr-",
        "outputId": "74e0cd9f-7f41-44ec-9254-b1c5b1eeb569"
      },
      "execution_count": 2,
      "outputs": [
        {
          "output_type": "stream",
          "name": "stdout",
          "text": [
            "Mounted at /content/drive\n"
          ]
        }
      ]
    },
    {
      "metadata": {
        "trusted": false,
        "id": "UminArnlt7Fw"
      },
      "cell_type": "code",
      "source": [
        "df = pd.read_csv('/content/drive/MyDrive/Purwadhika/3. Machine Learning/Capstone Project - Module 3/data_customer_lifetime_value.csv')"
      ],
      "execution_count": 3,
      "outputs": []
    },
    {
      "metadata": {
        "trusted": false,
        "colab": {
          "base_uri": "https://localhost:8080/"
        },
        "id": "Y6GHVp3lt7Fx",
        "outputId": "bc708493-dee7-440b-d180-85af18391633"
      },
      "cell_type": "code",
      "source": [
        "df.info()"
      ],
      "execution_count": 4,
      "outputs": [
        {
          "output_type": "stream",
          "name": "stdout",
          "text": [
            "<class 'pandas.core.frame.DataFrame'>\n",
            "RangeIndex: 5669 entries, 0 to 5668\n",
            "Data columns (total 11 columns):\n",
            " #   Column                   Non-Null Count  Dtype  \n",
            "---  ------                   --------------  -----  \n",
            " 0   Vehicle Class            5669 non-null   object \n",
            " 1   Coverage                 5669 non-null   object \n",
            " 2   Renew Offer Type         5669 non-null   object \n",
            " 3   EmploymentStatus         5669 non-null   object \n",
            " 4   Marital Status           5669 non-null   object \n",
            " 5   Education                5669 non-null   object \n",
            " 6   Number of Policies       5669 non-null   float64\n",
            " 7   Monthly Premium Auto     5669 non-null   float64\n",
            " 8   Total Claim Amount       5669 non-null   float64\n",
            " 9   Income                   5669 non-null   float64\n",
            " 10  Customer Lifetime Value  5669 non-null   float64\n",
            "dtypes: float64(5), object(6)\n",
            "memory usage: 487.3+ KB\n"
          ]
        }
      ]
    },
    {
      "metadata": {
        "id": "oylJbVWEt7Fz"
      },
      "cell_type": "markdown",
      "source": [
        "Data terdiri dari 5668 values dengan 11 variabel yang berbeda (categorical and continous DataType).\n",
        "\n",
        "Dependent variabel adalah Customer Lifetime Value, yang akan dilakukan predict.\n",
        "\n"
      ]
    },
    {
      "metadata": {
        "trusted": false,
        "colab": {
          "base_uri": "https://localhost:8080/",
          "height": 300
        },
        "id": "wb9N7XRDt7Fz",
        "outputId": "400854f8-4e25-4d41-e580-e0edecb2f932"
      },
      "cell_type": "code",
      "source": [
        "df.describe()\n"
      ],
      "execution_count": 5,
      "outputs": [
        {
          "output_type": "execute_result",
          "data": {
            "text/plain": [
              "       Number of Policies  Monthly Premium Auto  Total Claim Amount   Income  \\\n",
              "count             5669.00               5669.00             5669.00  5669.00   \n",
              "mean                 2.98                 93.03              431.41 37868.19   \n",
              "std                  2.39                 34.55              287.56 30490.49   \n",
              "min                  1.00                 61.00                0.42     0.00   \n",
              "25%                  1.00                 68.00              266.93     0.00   \n",
              "50%                  2.00                 82.00              379.20 34322.00   \n",
              "75%                  4.00                109.00              549.99 62464.00   \n",
              "max                  9.00                297.00             2759.79 99934.00   \n",
              "\n",
              "       Customer Lifetime Value  \n",
              "count                  5669.00  \n",
              "mean                   8029.87  \n",
              "std                    6916.71  \n",
              "min                    1898.01  \n",
              "25%                    3954.34  \n",
              "50%                    5800.19  \n",
              "75%                    9031.21  \n",
              "max                   83325.38  "
            ],
            "text/html": [
              "\n",
              "  <div id=\"df-c676c4f4-1d11-486d-8079-b25734c66a2d\">\n",
              "    <div class=\"colab-df-container\">\n",
              "      <div>\n",
              "<style scoped>\n",
              "    .dataframe tbody tr th:only-of-type {\n",
              "        vertical-align: middle;\n",
              "    }\n",
              "\n",
              "    .dataframe tbody tr th {\n",
              "        vertical-align: top;\n",
              "    }\n",
              "\n",
              "    .dataframe thead th {\n",
              "        text-align: right;\n",
              "    }\n",
              "</style>\n",
              "<table border=\"1\" class=\"dataframe\">\n",
              "  <thead>\n",
              "    <tr style=\"text-align: right;\">\n",
              "      <th></th>\n",
              "      <th>Number of Policies</th>\n",
              "      <th>Monthly Premium Auto</th>\n",
              "      <th>Total Claim Amount</th>\n",
              "      <th>Income</th>\n",
              "      <th>Customer Lifetime Value</th>\n",
              "    </tr>\n",
              "  </thead>\n",
              "  <tbody>\n",
              "    <tr>\n",
              "      <th>count</th>\n",
              "      <td>5669.00</td>\n",
              "      <td>5669.00</td>\n",
              "      <td>5669.00</td>\n",
              "      <td>5669.00</td>\n",
              "      <td>5669.00</td>\n",
              "    </tr>\n",
              "    <tr>\n",
              "      <th>mean</th>\n",
              "      <td>2.98</td>\n",
              "      <td>93.03</td>\n",
              "      <td>431.41</td>\n",
              "      <td>37868.19</td>\n",
              "      <td>8029.87</td>\n",
              "    </tr>\n",
              "    <tr>\n",
              "      <th>std</th>\n",
              "      <td>2.39</td>\n",
              "      <td>34.55</td>\n",
              "      <td>287.56</td>\n",
              "      <td>30490.49</td>\n",
              "      <td>6916.71</td>\n",
              "    </tr>\n",
              "    <tr>\n",
              "      <th>min</th>\n",
              "      <td>1.00</td>\n",
              "      <td>61.00</td>\n",
              "      <td>0.42</td>\n",
              "      <td>0.00</td>\n",
              "      <td>1898.01</td>\n",
              "    </tr>\n",
              "    <tr>\n",
              "      <th>25%</th>\n",
              "      <td>1.00</td>\n",
              "      <td>68.00</td>\n",
              "      <td>266.93</td>\n",
              "      <td>0.00</td>\n",
              "      <td>3954.34</td>\n",
              "    </tr>\n",
              "    <tr>\n",
              "      <th>50%</th>\n",
              "      <td>2.00</td>\n",
              "      <td>82.00</td>\n",
              "      <td>379.20</td>\n",
              "      <td>34322.00</td>\n",
              "      <td>5800.19</td>\n",
              "    </tr>\n",
              "    <tr>\n",
              "      <th>75%</th>\n",
              "      <td>4.00</td>\n",
              "      <td>109.00</td>\n",
              "      <td>549.99</td>\n",
              "      <td>62464.00</td>\n",
              "      <td>9031.21</td>\n",
              "    </tr>\n",
              "    <tr>\n",
              "      <th>max</th>\n",
              "      <td>9.00</td>\n",
              "      <td>297.00</td>\n",
              "      <td>2759.79</td>\n",
              "      <td>99934.00</td>\n",
              "      <td>83325.38</td>\n",
              "    </tr>\n",
              "  </tbody>\n",
              "</table>\n",
              "</div>\n",
              "      <button class=\"colab-df-convert\" onclick=\"convertToInteractive('df-c676c4f4-1d11-486d-8079-b25734c66a2d')\"\n",
              "              title=\"Convert this dataframe to an interactive table.\"\n",
              "              style=\"display:none;\">\n",
              "        \n",
              "  <svg xmlns=\"http://www.w3.org/2000/svg\" height=\"24px\"viewBox=\"0 0 24 24\"\n",
              "       width=\"24px\">\n",
              "    <path d=\"M0 0h24v24H0V0z\" fill=\"none\"/>\n",
              "    <path d=\"M18.56 5.44l.94 2.06.94-2.06 2.06-.94-2.06-.94-.94-2.06-.94 2.06-2.06.94zm-11 1L8.5 8.5l.94-2.06 2.06-.94-2.06-.94L8.5 2.5l-.94 2.06-2.06.94zm10 10l.94 2.06.94-2.06 2.06-.94-2.06-.94-.94-2.06-.94 2.06-2.06.94z\"/><path d=\"M17.41 7.96l-1.37-1.37c-.4-.4-.92-.59-1.43-.59-.52 0-1.04.2-1.43.59L10.3 9.45l-7.72 7.72c-.78.78-.78 2.05 0 2.83L4 21.41c.39.39.9.59 1.41.59.51 0 1.02-.2 1.41-.59l7.78-7.78 2.81-2.81c.8-.78.8-2.07 0-2.86zM5.41 20L4 18.59l7.72-7.72 1.47 1.35L5.41 20z\"/>\n",
              "  </svg>\n",
              "      </button>\n",
              "      \n",
              "  <style>\n",
              "    .colab-df-container {\n",
              "      display:flex;\n",
              "      flex-wrap:wrap;\n",
              "      gap: 12px;\n",
              "    }\n",
              "\n",
              "    .colab-df-convert {\n",
              "      background-color: #E8F0FE;\n",
              "      border: none;\n",
              "      border-radius: 50%;\n",
              "      cursor: pointer;\n",
              "      display: none;\n",
              "      fill: #1967D2;\n",
              "      height: 32px;\n",
              "      padding: 0 0 0 0;\n",
              "      width: 32px;\n",
              "    }\n",
              "\n",
              "    .colab-df-convert:hover {\n",
              "      background-color: #E2EBFA;\n",
              "      box-shadow: 0px 1px 2px rgba(60, 64, 67, 0.3), 0px 1px 3px 1px rgba(60, 64, 67, 0.15);\n",
              "      fill: #174EA6;\n",
              "    }\n",
              "\n",
              "    [theme=dark] .colab-df-convert {\n",
              "      background-color: #3B4455;\n",
              "      fill: #D2E3FC;\n",
              "    }\n",
              "\n",
              "    [theme=dark] .colab-df-convert:hover {\n",
              "      background-color: #434B5C;\n",
              "      box-shadow: 0px 1px 3px 1px rgba(0, 0, 0, 0.15);\n",
              "      filter: drop-shadow(0px 1px 2px rgba(0, 0, 0, 0.3));\n",
              "      fill: #FFFFFF;\n",
              "    }\n",
              "  </style>\n",
              "\n",
              "      <script>\n",
              "        const buttonEl =\n",
              "          document.querySelector('#df-c676c4f4-1d11-486d-8079-b25734c66a2d button.colab-df-convert');\n",
              "        buttonEl.style.display =\n",
              "          google.colab.kernel.accessAllowed ? 'block' : 'none';\n",
              "\n",
              "        async function convertToInteractive(key) {\n",
              "          const element = document.querySelector('#df-c676c4f4-1d11-486d-8079-b25734c66a2d');\n",
              "          const dataTable =\n",
              "            await google.colab.kernel.invokeFunction('convertToInteractive',\n",
              "                                                     [key], {});\n",
              "          if (!dataTable) return;\n",
              "\n",
              "          const docLinkHtml = 'Like what you see? Visit the ' +\n",
              "            '<a target=\"_blank\" href=https://colab.research.google.com/notebooks/data_table.ipynb>data table notebook</a>'\n",
              "            + ' to learn more about interactive tables.';\n",
              "          element.innerHTML = '';\n",
              "          dataTable['output_type'] = 'display_data';\n",
              "          await google.colab.output.renderOutput(dataTable, element);\n",
              "          const docLink = document.createElement('div');\n",
              "          docLink.innerHTML = docLinkHtml;\n",
              "          element.appendChild(docLink);\n",
              "        }\n",
              "      </script>\n",
              "    </div>\n",
              "  </div>\n",
              "  "
            ]
          },
          "metadata": {},
          "execution_count": 5
        }
      ]
    },
    {
      "metadata": {
        "trusted": false,
        "colab": {
          "base_uri": "https://localhost:8080/"
        },
        "id": "M2q-0O5_t7F0",
        "outputId": "30282c34-a701-46de-8bb6-f4f50fed7fee"
      },
      "cell_type": "code",
      "source": [
        "df.isnull().sum()\n"
      ],
      "execution_count": 6,
      "outputs": [
        {
          "output_type": "execute_result",
          "data": {
            "text/plain": [
              "Vehicle Class              0\n",
              "Coverage                   0\n",
              "Renew Offer Type           0\n",
              "EmploymentStatus           0\n",
              "Marital Status             0\n",
              "Education                  0\n",
              "Number of Policies         0\n",
              "Monthly Premium Auto       0\n",
              "Total Claim Amount         0\n",
              "Income                     0\n",
              "Customer Lifetime Value    0\n",
              "dtype: int64"
            ]
          },
          "metadata": {},
          "execution_count": 6
        }
      ]
    },
    {
      "metadata": {
        "trusted": false,
        "colab": {
          "base_uri": "https://localhost:8080/",
          "height": 746
        },
        "id": "TellGAoSt7F0",
        "outputId": "33ce0ea1-5d9c-4e8d-8b65-259788152c47"
      },
      "cell_type": "code",
      "source": [
        "# Looking at outliers of continuos variables\n",
        "\n",
        "significant_cont = ['Income','Monthly Premium Auto','Total Claim Amount']\n",
        "\n",
        "sns.set(color_codes=True)\n",
        "plt.figure(figsize=(15,20))\n",
        "plt.subplots_adjust(hspace=0.5)\n",
        "\n",
        "for i in range(len(significant_cont)):\n",
        "    plt.subplot(3,2,i+1)\n",
        "    plt.boxplot(df[significant_cont[i]])\n",
        "    plt.title(significant_cont[i])\n",
        "    \n",
        "plt.show()"
      ],
      "execution_count": 8,
      "outputs": [
        {
          "output_type": "display_data",
          "data": {
            "text/plain": [
              "<Figure size 1080x1440 with 3 Axes>"
            ],
            "image/png": "[encoded data removed]"
          },
          "metadata": {}
        }
      ]
    },
    {
      "metadata": {
        "id": "di0kyJPnt7F1"
      },
      "cell_type": "markdown",
      "source": [
        "\n",
        "Seperti yang terlihat ada outlier dalam Total Claim Amount dan juga dalam Monthly Premium Auto, biasanya menghilangkan outlier bertujuan untuk model yang lebih baik. Namun dikarenakan dataset yang digunakan adalah dataset industri asuransi, outlier dapat menjadi pelanggan yang potensial. Jadi, model yang akan dibuat aka dibandingkan antara model yang menyertakan outlier dan tidak menyertakan outlier.\n",
        "\n",
        "Tidak ada outlier dalam Income.\n",
        "\n",
        "\n"
      ]
    },
    {
      "metadata": {
        "trusted": false,
        "colab": {
          "base_uri": "https://localhost:8080/"
        },
        "id": "q-GhE6sEt7F2",
        "outputId": "4a8d032c-5171-483b-9eec-054e17d9379c"
      },
      "cell_type": "code",
      "source": [
        "#checking all categorical variables to determine significant ones.\n",
        "\n",
        "cat = df.select_dtypes(include='object')\n",
        "col_cat = cat.columns\n",
        "col_cat"
      ],
      "execution_count": 9,
      "outputs": [
        {
          "output_type": "execute_result",
          "data": {
            "text/plain": [
              "Index(['Vehicle Class', 'Coverage', 'Renew Offer Type', 'EmploymentStatus',\n",
              "       'Marital Status', 'Education'],\n",
              "      dtype='object')"
            ]
          },
          "metadata": {},
          "execution_count": 9
        }
      ]
    },
    {
      "metadata": {
        "trusted": false,
        "colab": {
          "base_uri": "https://localhost:8080/",
          "height": 1000
        },
        "id": "kE1Yknh6t7F2",
        "outputId": "fa2f4551-8498-4146-b248-72f12b23cb1b"
      },
      "cell_type": "code",
      "source": [
        "sns.set(color_codes=True)\n",
        "plt.subplots_adjust(hspace=0.5)\n",
        "plt.figure(figsize=(20,40))\n",
        "\n",
        "for i in range(len(col_cat)):\n",
        "    plt.subplot(7,2,i+1)\n",
        "    sns.barplot(x = col_cat[i],y='Customer Lifetime Value',data = df)\n",
        "    plt.title(col_cat[i])\n",
        "    \n",
        "plt.show()"
      ],
      "execution_count": 10,
      "outputs": [
        {
          "output_type": "display_data",
          "data": {
            "text/plain": [
              "<Figure size 432x288 with 0 Axes>"
            ]
          },
          "metadata": {}
        },
        {
          "output_type": "display_data",
          "data": {
            "text/plain": [
              "<Figure size 1440x2880 with 6 Axes>"
            ],
            "image/png": "[encoded data removed]"
          },
          "metadata": {}
        }
      ]
    },
    {
      "metadata": {
        "trusted": false,
        "colab": {
          "base_uri": "https://localhost:8080/",
          "height": 394
        },
        "id": "uyPkRXfft7F3",
        "outputId": "79cbfff8-ee38-412c-ed1e-3fcb65a25f88"
      },
      "cell_type": "code",
      "source": [
        "\n",
        "sns.set(style=\"whitegrid\")\n",
        "plt.figure(figsize=(15,6))\n",
        "ax = sns.violinplot(x=\"Number of Policies\", y=\"Customer Lifetime Value\", data=df)\n"
      ],
      "execution_count": 11,
      "outputs": [
        {
          "output_type": "display_data",
          "data": {
            "text/plain": [
              "<Figure size 1080x432 with 1 Axes>"
            ],
            "image/png": "[encoded data removed]"
          },
          "metadata": {}
        }
      ]
    },
    {
      "metadata": {
        "id": "g86-ogtQt7F2"
      },
      "cell_type": "markdown",
      "source": [
        "Interpretasi dari grafik:\n",
        "\n",
        "Pelanggan yang hanya mengambil 1 policies memiliki nilai clv yang lebih rendah dan pelanggan yang mengambil 3 policies atau lebih menunjukkan tren yang sama. Jadi, dapat menggabungkan semuanya menjadi satu bin dan juga dapat melihat bahwa pelanggan yang telah mengambil 2 policies memiliki nilai  clv yang sangat tinggi.\n"
      ]
    },
    {
      "cell_type": "markdown",
      "source": [
        "# Feature Engineering"
      ],
      "metadata": {
        "id": "VtAzACLzVhpV"
      }
    },
    {
      "metadata": {
        "id": "ssHVO_gTt7F3"
      },
      "cell_type": "markdown",
      "source": [
        "## Statistical Analysis\n"
      ]
    },
    {
      "cell_type": "markdown",
      "source": [
        "Selain menggunakan interpretasi grafik, perlu dilakukan uji statistik untuk mengetahui independent variabel yang berpengaruh terhadap CLV (dependent variabel).\n",
        "\n",
        "Uji statistik dilakukan dengan menggunakan F test/ ANOVA."
      ],
      "metadata": {
        "id": "ZDf6CVp1fJze"
      }
    },
    {
      "metadata": {
        "trusted": false,
        "id": "5OI2MF_Ht7F5"
      },
      "cell_type": "code",
      "source": [
        "# Test whether Covarage differences are significant or not.\n",
        "Coverage = df[['Customer Lifetime Value','Coverage']].groupby('Coverage')\n",
        "Basic = Coverage['Customer Lifetime Value'].get_group('Basic')\n",
        "Extended = Coverage['Customer Lifetime Value'].get_group('Extended')\n",
        "Premium =Coverage['Customer Lifetime Value'].get_group('Premium')"
      ],
      "execution_count": 12,
      "outputs": []
    },
    {
      "metadata": {
        "trusted": false,
        "colab": {
          "base_uri": "https://localhost:8080/"
        },
        "id": "trrMR5Rat7F5",
        "outputId": "7542e1b5-9aab-4eae-b761-1dc65cb0bf1b"
      },
      "cell_type": "code",
      "source": [
        "stats.f_oneway(Basic,Extended,Premium)"
      ],
      "execution_count": 13,
      "outputs": [
        {
          "output_type": "execute_result",
          "data": {
            "text/plain": [
              "F_onewayResult(statistic=91.20729557135006, pvalue=1.0314278162635432e-39)"
            ]
          },
          "metadata": {},
          "execution_count": 13
        }
      ]
    },
    {
      "metadata": {
        "trusted": false,
        "id": "HuC5r3ENt7F5"
      },
      "cell_type": "code",
      "source": [
        "# Test whether Marital Status differences are significant or not.\n",
        "\n",
        "Marital = df[['Customer Lifetime Value','Marital Status']].groupby('Marital Status')\n",
        "married = Marital['Customer Lifetime Value'].get_group('Married')\n",
        "single = Marital['Customer Lifetime Value'].get_group('Single')\n"
      ],
      "execution_count": 14,
      "outputs": []
    },
    {
      "metadata": {
        "trusted": false,
        "colab": {
          "base_uri": "https://localhost:8080/"
        },
        "id": "SCwkJE6ft7F6",
        "outputId": "aac7e2bb-5de4-4e49-b71c-852fbea4e086"
      },
      "cell_type": "code",
      "source": [
        "stats.ttest_ind(married,single)"
      ],
      "execution_count": 15,
      "outputs": [
        {
          "output_type": "execute_result",
          "data": {
            "text/plain": [
              "Ttest_indResult(statistic=1.1630504201933474, pvalue=0.2448666577802474)"
            ]
          },
          "metadata": {},
          "execution_count": 15
        }
      ]
    },
    {
      "metadata": {
        "trusted": false,
        "id": "PNNbQX58t7F6"
      },
      "cell_type": "code",
      "source": [
        "# Test whether Vehicle Class differences are significant or not.\n",
        "\n",
        "Vehicleclass = df[['Customer Lifetime Value','Vehicle Class']].groupby('Vehicle Class')\n",
        "fourdoor = Vehicleclass['Customer Lifetime Value'].get_group('Four-Door Car')\n",
        "twodoor = Vehicleclass['Customer Lifetime Value'].get_group('Two-Door Car')\n",
        "suv = Vehicleclass['Customer Lifetime Value'].get_group('SUV')\n",
        "luxurysuv =Vehicleclass['Customer Lifetime Value'].get_group('Luxury SUV')\n",
        "luxurycar =Vehicleclass['Customer Lifetime Value'].get_group('Luxury Car')\n",
        "sportscar =Vehicleclass['Customer Lifetime Value'].get_group('Sports Car')\n",
        "\n"
      ],
      "execution_count": 16,
      "outputs": []
    },
    {
      "metadata": {
        "trusted": false,
        "colab": {
          "base_uri": "https://localhost:8080/"
        },
        "id": "5gyqHkBIt7F6",
        "outputId": "937dbb28-4b5c-4e9d-f9aa-77a0de698a5c"
      },
      "cell_type": "code",
      "source": [
        "stats.f_oneway(fourdoor,twodoor,suv,luxurysuv,luxurycar,sportscar)"
      ],
      "execution_count": 17,
      "outputs": [
        {
          "output_type": "execute_result",
          "data": {
            "text/plain": [
              "F_onewayResult(statistic=171.19249445898942, pvalue=4.3509258538310365e-170)"
            ]
          },
          "metadata": {},
          "execution_count": 17
        }
      ]
    },
    {
      "metadata": {
        "trusted": false,
        "id": "m5ouJz1rt7F7"
      },
      "cell_type": "code",
      "source": [
        "# Test whether Renew Offer Type differences are significant or not.\n",
        "\n",
        "Renewoffer = df[['Customer Lifetime Value','Renew Offer Type']].groupby('Renew Offer Type')\n",
        "offer1 = Renewoffer['Customer Lifetime Value'].get_group('Offer1')\n",
        "offer2 = Renewoffer['Customer Lifetime Value'].get_group('Offer2')\n",
        "offer3 = Renewoffer['Customer Lifetime Value'].get_group('Offer3')\n",
        "offer4 =Renewoffer['Customer Lifetime Value'].get_group('Offer4')\n",
        "\n"
      ],
      "execution_count": 18,
      "outputs": []
    },
    {
      "metadata": {
        "trusted": false,
        "colab": {
          "base_uri": "https://localhost:8080/"
        },
        "id": "-WBq5Fx0t7F7",
        "outputId": "9986d9f4-3e21-4681-ef65-08ec2168cfe1"
      },
      "cell_type": "code",
      "source": [
        "stats.f_oneway(offer1,offer2,offer3,offer4)"
      ],
      "execution_count": 19,
      "outputs": [
        {
          "output_type": "execute_result",
          "data": {
            "text/plain": [
              "F_onewayResult(statistic=19.576342199647854, pvalue=1.2711637313406483e-12)"
            ]
          },
          "metadata": {},
          "execution_count": 19
        }
      ]
    },
    {
      "metadata": {
        "trusted": false,
        "id": "EdMkM9iAt7F7"
      },
      "cell_type": "code",
      "source": [
        "# Test whether EmploymentStatus differences are significant or not.\n",
        "\n",
        "\n",
        "EmploymentStatus = df[['Customer Lifetime Value','EmploymentStatus']].groupby('EmploymentStatus')\n",
        "employed = EmploymentStatus['Customer Lifetime Value'].get_group('Employed')\n",
        "unemployed = EmploymentStatus['Customer Lifetime Value'].get_group('Unemployed')\n",
        "medleave = EmploymentStatus['Customer Lifetime Value'].get_group('Medical Leave')\n",
        "disabled = EmploymentStatus['Customer Lifetime Value'].get_group('Disabled')\n",
        "retired = EmploymentStatus['Customer Lifetime Value'].get_group('Retired')"
      ],
      "execution_count": 20,
      "outputs": []
    },
    {
      "metadata": {
        "trusted": false,
        "colab": {
          "base_uri": "https://localhost:8080/"
        },
        "id": "scjLUfzjt7F8",
        "outputId": "4c09ba31-87df-4704-daea-332be0877b28"
      },
      "cell_type": "code",
      "source": [
        "stats.f_oneway(employed,unemployed,medleave,disabled,retired)"
      ],
      "execution_count": 21,
      "outputs": [
        {
          "output_type": "execute_result",
          "data": {
            "text/plain": [
              "F_onewayResult(statistic=1.9697272652056221, pvalue=0.0962726820463628)"
            ]
          },
          "metadata": {},
          "execution_count": 21
        }
      ]
    },
    {
      "metadata": {
        "trusted": false,
        "id": "xyqgGfoFt7F8"
      },
      "cell_type": "code",
      "source": [
        "\n",
        "# Test whether Education differences are significant or not.\n",
        "\n",
        "Education = df[['Customer Lifetime Value','Education']].groupby('Education')\n",
        "bachelor = Education['Customer Lifetime Value'].get_group('Bachelor')\n",
        "college = Education['Customer Lifetime Value'].get_group('College')\n",
        "highschool = Education['Customer Lifetime Value'].get_group('High School or Below')\n",
        "master = Education['Customer Lifetime Value'].get_group('Master')\n",
        "doctor = Education['Customer Lifetime Value'].get_group('Doctor')"
      ],
      "execution_count": 22,
      "outputs": []
    },
    {
      "metadata": {
        "trusted": false,
        "colab": {
          "base_uri": "https://localhost:8080/"
        },
        "id": "5puS_0UBt7F9",
        "outputId": "4ce82ffb-0a35-4735-d0ef-70b9605b731d"
      },
      "cell_type": "code",
      "source": [
        "stats.f_oneway(bachelor,college,highschool,master,doctor)"
      ],
      "execution_count": 23,
      "outputs": [
        {
          "output_type": "execute_result",
          "data": {
            "text/plain": [
              "F_onewayResult(statistic=3.4913206729535835, pvalue=0.007454543234145381)"
            ]
          },
          "metadata": {},
          "execution_count": 23
        }
      ]
    },
    {
      "cell_type": "markdown",
      "source": [
        "Drop variabel yang berdasarkan uji statistik tidak significant terhadap variabel target."
      ],
      "metadata": {
        "id": "6zZP6DpihViD"
      }
    },
    {
      "metadata": {
        "trusted": false,
        "id": "AtnkyPCkt7F9"
      },
      "cell_type": "code",
      "source": [
        "df2 =df.copy()"
      ],
      "execution_count": 24,
      "outputs": []
    },
    {
      "metadata": {
        "trusted": false,
        "id": "oZuRLcyGt7F-"
      },
      "cell_type": "code",
      "source": [
        "df2.drop(['Coverage','Renew Offer Type','Vehicle Class'],axis=1,inplace = True)"
      ],
      "execution_count": 25,
      "outputs": []
    },
    {
      "cell_type": "markdown",
      "source": [
        "Berdasarkan grafik sebelumnya, dapat dilihat bahwa data dengan number policies >= 3 memilki CLV yang sama, sehingga akan dikelompokkan menjadi satu kategori."
      ],
      "metadata": {
        "id": "lHDzcZaciIDn"
      }
    },
    {
      "metadata": {
        "trusted": false,
        "id": "hIvfUnB8t7F_"
      },
      "cell_type": "code",
      "source": [
        "df2['Number of Policies'] = np.where(df2['Number of Policies']>2,3,df2['Number of Policies'])"
      ],
      "execution_count": 26,
      "outputs": []
    },
    {
      "metadata": {
        "trusted": false,
        "id": "vv6nNib5t7GA"
      },
      "cell_type": "code",
      "source": [
        "dummies = pd.get_dummies(df2,columns=['Marital Status','Number of Policies','Education','EmploymentStatus'],drop_first=True)"
      ],
      "execution_count": 27,
      "outputs": []
    },
    {
      "metadata": {
        "trusted": false,
        "colab": {
          "base_uri": "https://localhost:8080/",
          "height": 522
        },
        "id": "NwWZOLNct7GA",
        "outputId": "e12268a4-efb7-4a03-a1e1-255f4a482c6b"
      },
      "cell_type": "code",
      "source": [
        "dummies"
      ],
      "execution_count": 28,
      "outputs": [
        {
          "output_type": "execute_result",
          "data": {
            "text/plain": [
              "      Monthly Premium Auto  Total Claim Amount   Income  \\\n",
              "0                    90.00              571.48 11828.00   \n",
              "1                    62.00              114.51 44762.00   \n",
              "2                    62.00              257.25 21514.00   \n",
              "3                   116.00              556.80 17913.00   \n",
              "4                    62.00              355.82 19030.00   \n",
              "...                    ...                 ...      ...   \n",
              "5664                 74.00              532.80     0.00   \n",
              "5665                109.00              523.20 27778.00   \n",
              "5666                 62.00               44.78 84658.00   \n",
              "5667                239.00             1294.70 22705.00   \n",
              "5668                199.00              161.62 60184.00   \n",
              "\n",
              "      Customer Lifetime Value  Marital Status_Married  Marital Status_Single  \\\n",
              "0                    10083.49                       0                      0   \n",
              "1                     4943.39                       1                      0   \n",
              "2                    11981.98                       1                      0   \n",
              "3                     4550.86                       1                      0   \n",
              "4                     2372.16                       1                      0   \n",
              "...                       ...                     ...                    ...   \n",
              "5664                  2442.22                       0                      1   \n",
              "5665                 12904.94                       0                      0   \n",
              "5666                  2447.05                       0                      1   \n",
              "5667                 19160.99                       0                      0   \n",
              "5668                  7664.22                       0                      0   \n",
              "\n",
              "      Number of Policies_2.0  Number of Policies_3.0  Education_College  \\\n",
              "0                          1                       0                  0   \n",
              "1                          0                       1                  1   \n",
              "2                          1                       0                  0   \n",
              "3                          0                       0                  0   \n",
              "4                          0                       0                  0   \n",
              "...                      ...                     ...                ...   \n",
              "5664                       0                       0                  0   \n",
              "5665                       1                       0                  0   \n",
              "5666                       0                       0                  0   \n",
              "5667                       0                       1                  0   \n",
              "5668                       0                       0                  1   \n",
              "\n",
              "      Education_Doctor  Education_High School or Below  Education_Master  \\\n",
              "0                    0                               1                 0   \n",
              "1                    0                               0                 0   \n",
              "2                    0                               0                 1   \n",
              "3                    0                               1                 0   \n",
              "4                    0                               1                 0   \n",
              "...                ...                             ...               ...   \n",
              "5664                 0                               1                 0   \n",
              "5665                 0                               0                 0   \n",
              "5666                 0                               0                 0   \n",
              "5667                 0                               0                 1   \n",
              "5668                 0                               0                 0   \n",
              "\n",
              "      EmploymentStatus_Employed  EmploymentStatus_Medical Leave  \\\n",
              "0                             0                               0   \n",
              "1                             1                               0   \n",
              "2                             0                               0   \n",
              "3                             0                               0   \n",
              "4                             0                               1   \n",
              "...                         ...                             ...   \n",
              "5664                          0                               0   \n",
              "5665                          1                               0   \n",
              "5666                          1                               0   \n",
              "5667                          1                               0   \n",
              "5668                          1                               0   \n",
              "\n",
              "      EmploymentStatus_Retired  EmploymentStatus_Unemployed  \n",
              "0                            1                            0  \n",
              "1                            0                            0  \n",
              "2                            1                            0  \n",
              "3                            0                            0  \n",
              "4                            0                            0  \n",
              "...                        ...                          ...  \n",
              "5664                         0                            1  \n",
              "5665                         0                            0  \n",
              "5666                         0                            0  \n",
              "5667                         0                            0  \n",
              "5668                         0                            0  \n",
              "\n",
              "[5669 rows x 16 columns]"
            ],
            "text/html": [
              "\n",
              "  <div id=\"df-5cf9234c-c492-42d5-ac75-15c49aaa4388\">\n",
              "    <div class=\"colab-df-container\">\n",
              "      <div>\n",
              "<style scoped>\n",
              "    .dataframe tbody tr th:only-of-type {\n",
              "        vertical-align: middle;\n",
              "    }\n",
              "\n",
              "    .dataframe tbody tr th {\n",
              "        vertical-align: top;\n",
              "    }\n",
              "\n",
              "    .dataframe thead th {\n",
              "        text-align: right;\n",
              "    }\n",
              "</style>\n",
              "<table border=\"1\" class=\"dataframe\">\n",
              "  <thead>\n",
              "    <tr style=\"text-align: right;\">\n",
              "      <th></th>\n",
              "      <th>Monthly Premium Auto</th>\n",
              "      <th>Total Claim Amount</th>\n",
              "      <th>Income</th>\n",
              "      <th>Customer Lifetime Value</th>\n",
              "      <th>Marital Status_Married</th>\n",
              "      <th>Marital Status_Single</th>\n",
              "      <th>Number of Policies_2.0</th>\n",
              "      <th>Number of Policies_3.0</th>\n",
              "      <th>Education_College</th>\n",
              "      <th>Education_Doctor</th>\n",
              "      <th>Education_High School or Below</th>\n",
              "      <th>Education_Master</th>\n",
              "      <th>EmploymentStatus_Employed</th>\n",
              "      <th>EmploymentStatus_Medical Leave</th>\n",
              "      <th>EmploymentStatus_Retired</th>\n",
              "      <th>EmploymentStatus_Unemployed</th>\n",
              "    </tr>\n",
              "  </thead>\n",
              "  <tbody>\n",
              "    <tr>\n",
              "      <th>0</th>\n",
              "      <td>90.00</td>\n",
              "      <td>571.48</td>\n",
              "      <td>11828.00</td>\n",
              "      <td>10083.49</td>\n",
              "      <td>0</td>\n",
              "      <td>0</td>\n",
              "      <td>1</td>\n",
              "      <td>0</td>\n",
              "      <td>0</td>\n",
              "      <td>0</td>\n",
              "      <td>1</td>\n",
              "      <td>0</td>\n",
              "      <td>0</td>\n",
              "      <td>0</td>\n",
              "      <td>1</td>\n",
              "      <td>0</td>\n",
              "    </tr>\n",
              "    <tr>\n",
              "      <th>1</th>\n",
              "      <td>62.00</td>\n",
              "      <td>114.51</td>\n",
              "      <td>44762.00</td>\n",
              "      <td>4943.39</td>\n",
              "      <td>1</td>\n",
              "      <td>0</td>\n",
              "      <td>0</td>\n",
              "      <td>1</td>\n",
              "      <td>1</td>\n",
              "      <td>0</td>\n",
              "      <td>0</td>\n",
              "      <td>0</td>\n",
              "      <td>1</td>\n",
              "      <td>0</td>\n",
              "      <td>0</td>\n",
              "      <td>0</td>\n",
              "    </tr>\n",
              "    <tr>\n",
              "      <th>2</th>\n",
              "      <td>62.00</td>\n",
              "      <td>257.25</td>\n",
              "      <td>21514.00</td>\n",
              "      <td>11981.98</td>\n",
              "      <td>1</td>\n",
              "      <td>0</td>\n",
              "      <td>1</td>\n",
              "      <td>0</td>\n",
              "      <td>0</td>\n",
              "      <td>0</td>\n",
              "      <td>0</td>\n",
              "      <td>1</td>\n",
              "      <td>0</td>\n",
              "      <td>0</td>\n",
              "      <td>1</td>\n",
              "      <td>0</td>\n",
              "    </tr>\n",
              "    <tr>\n",
              "      <th>3</th>\n",
              "      <td>116.00</td>\n",
              "      <td>556.80</td>\n",
              "      <td>17913.00</td>\n",
              "      <td>4550.86</td>\n",
              "      <td>1</td>\n",
              "      <td>0</td>\n",
              "      <td>0</td>\n",
              "      <td>0</td>\n",
              "      <td>0</td>\n",
              "      <td>0</td>\n",
              "      <td>1</td>\n",
              "      <td>0</td>\n",
              "      <td>0</td>\n",
              "      <td>0</td>\n",
              "      <td>0</td>\n",
              "      <td>0</td>\n",
              "    </tr>\n",
              "    <tr>\n",
              "      <th>4</th>\n",
              "      <td>62.00</td>\n",
              "      <td>355.82</td>\n",
              "      <td>19030.00</td>\n",
              "      <td>2372.16</td>\n",
              "      <td>1</td>\n",
              "      <td>0</td>\n",
              "      <td>0</td>\n",
              "      <td>0</td>\n",
              "      <td>0</td>\n",
              "      <td>0</td>\n",
              "      <td>1</td>\n",
              "      <td>0</td>\n",
              "      <td>0</td>\n",
              "      <td>1</td>\n",
              "      <td>0</td>\n",
              "      <td>0</td>\n",
              "    </tr>\n",
              "    <tr>\n",
              "      <th>...</th>\n",
              "      <td>...</td>\n",
              "      <td>...</td>\n",
              "      <td>...</td>\n",
              "      <td>...</td>\n",
              "      <td>...</td>\n",
              "      <td>...</td>\n",
              "      <td>...</td>\n",
              "      <td>...</td>\n",
              "      <td>...</td>\n",
              "      <td>...</td>\n",
              "      <td>...</td>\n",
              "      <td>...</td>\n",
              "      <td>...</td>\n",
              "      <td>...</td>\n",
              "      <td>...</td>\n",
              "      <td>...</td>\n",
              "    </tr>\n",
              "    <tr>\n",
              "      <th>5664</th>\n",
              "      <td>74.00</td>\n",
              "      <td>532.80</td>\n",
              "      <td>0.00</td>\n",
              "      <td>2442.22</td>\n",
              "      <td>0</td>\n",
              "      <td>1</td>\n",
              "      <td>0</td>\n",
              "      <td>0</td>\n",
              "      <td>0</td>\n",
              "      <td>0</td>\n",
              "      <td>1</td>\n",
              "      <td>0</td>\n",
              "      <td>0</td>\n",
              "      <td>0</td>\n",
              "      <td>0</td>\n",
              "      <td>1</td>\n",
              "    </tr>\n",
              "    <tr>\n",
              "      <th>5665</th>\n",
              "      <td>109.00</td>\n",
              "      <td>523.20</td>\n",
              "      <td>27778.00</td>\n",
              "      <td>12904.94</td>\n",
              "      <td>0</td>\n",
              "      <td>0</td>\n",
              "      <td>1</td>\n",
              "      <td>0</td>\n",
              "      <td>0</td>\n",
              "      <td>0</td>\n",
              "      <td>0</td>\n",
              "      <td>0</td>\n",
              "      <td>1</td>\n",
              "      <td>0</td>\n",
              "      <td>0</td>\n",
              "      <td>0</td>\n",
              "    </tr>\n",
              "    <tr>\n",
              "      <th>5666</th>\n",
              "      <td>62.00</td>\n",
              "      <td>44.78</td>\n",
              "      <td>84658.00</td>\n",
              "      <td>2447.05</td>\n",
              "      <td>0</td>\n",
              "      <td>1</td>\n",
              "      <td>0</td>\n",
              "      <td>0</td>\n",
              "      <td>0</td>\n",
              "      <td>0</td>\n",
              "      <td>0</td>\n",
              "      <td>0</td>\n",
              "      <td>1</td>\n",
              "      <td>0</td>\n",
              "      <td>0</td>\n",
              "      <td>0</td>\n",
              "    </tr>\n",
              "    <tr>\n",
              "      <th>5667</th>\n",
              "      <td>239.00</td>\n",
              "      <td>1294.70</td>\n",
              "      <td>22705.00</td>\n",
              "      <td>19160.99</td>\n",
              "      <td>0</td>\n",
              "      <td>0</td>\n",
              "      <td>0</td>\n",
              "      <td>1</td>\n",
              "      <td>0</td>\n",
              "      <td>0</td>\n",
              "      <td>0</td>\n",
              "      <td>1</td>\n",
              "      <td>1</td>\n",
              "      <td>0</td>\n",
              "      <td>0</td>\n",
              "      <td>0</td>\n",
              "    </tr>\n",
              "    <tr>\n",
              "      <th>5668</th>\n",
              "      <td>199.00</td>\n",
              "      <td>161.62</td>\n",
              "      <td>60184.00</td>\n",
              "      <td>7664.22</td>\n",
              "      <td>0</td>\n",
              "      <td>0</td>\n",
              "      <td>0</td>\n",
              "      <td>0</td>\n",
              "      <td>1</td>\n",
              "      <td>0</td>\n",
              "      <td>0</td>\n",
              "      <td>0</td>\n",
              "      <td>1</td>\n",
              "      <td>0</td>\n",
              "      <td>0</td>\n",
              "      <td>0</td>\n",
              "    </tr>\n",
              "  </tbody>\n",
              "</table>\n",
              "<p>5669 rows × 16 columns</p>\n",
              "</div>\n",
              "      <button class=\"colab-df-convert\" onclick=\"convertToInteractive('df-5cf9234c-c492-42d5-ac75-15c49aaa4388')\"\n",
              "              title=\"Convert this dataframe to an interactive table.\"\n",
              "              style=\"display:none;\">\n",
              "        \n",
              "  <svg xmlns=\"http://www.w3.org/2000/svg\" height=\"24px\"viewBox=\"0 0 24 24\"\n",
              "       width=\"24px\">\n",
              "    <path d=\"M0 0h24v24H0V0z\" fill=\"none\"/>\n",
              "    <path d=\"M18.56 5.44l.94 2.06.94-2.06 2.06-.94-2.06-.94-.94-2.06-.94 2.06-2.06.94zm-11 1L8.5 8.5l.94-2.06 2.06-.94-2.06-.94L8.5 2.5l-.94 2.06-2.06.94zm10 10l.94 2.06.94-2.06 2.06-.94-2.06-.94-.94-2.06-.94 2.06-2.06.94z\"/><path d=\"M17.41 7.96l-1.37-1.37c-.4-.4-.92-.59-1.43-.59-.52 0-1.04.2-1.43.59L10.3 9.45l-7.72 7.72c-.78.78-.78 2.05 0 2.83L4 21.41c.39.39.9.59 1.41.59.51 0 1.02-.2 1.41-.59l7.78-7.78 2.81-2.81c.8-.78.8-2.07 0-2.86zM5.41 20L4 18.59l7.72-7.72 1.47 1.35L5.41 20z\"/>\n",
              "  </svg>\n",
              "      </button>\n",
              "      \n",
              "  <style>\n",
              "    .colab-df-container {\n",
              "      display:flex;\n",
              "      flex-wrap:wrap;\n",
              "      gap: 12px;\n",
              "    }\n",
              "\n",
              "    .colab-df-convert {\n",
              "      background-color: #E8F0FE;\n",
              "      border: none;\n",
              "      border-radius: 50%;\n",
              "      cursor: pointer;\n",
              "      display: none;\n",
              "      fill: #1967D2;\n",
              "      height: 32px;\n",
              "      padding: 0 0 0 0;\n",
              "      width: 32px;\n",
              "    }\n",
              "\n",
              "    .colab-df-convert:hover {\n",
              "      background-color: #E2EBFA;\n",
              "      box-shadow: 0px 1px 2px rgba(60, 64, 67, 0.3), 0px 1px 3px 1px rgba(60, 64, 67, 0.15);\n",
              "      fill: #174EA6;\n",
              "    }\n",
              "\n",
              "    [theme=dark] .colab-df-convert {\n",
              "      background-color: #3B4455;\n",
              "      fill: #D2E3FC;\n",
              "    }\n",
              "\n",
              "    [theme=dark] .colab-df-convert:hover {\n",
              "      background-color: #434B5C;\n",
              "      box-shadow: 0px 1px 3px 1px rgba(0, 0, 0, 0.15);\n",
              "      filter: drop-shadow(0px 1px 2px rgba(0, 0, 0, 0.3));\n",
              "      fill: #FFFFFF;\n",
              "    }\n",
              "  </style>\n",
              "\n",
              "      <script>\n",
              "        const buttonEl =\n",
              "          document.querySelector('#df-5cf9234c-c492-42d5-ac75-15c49aaa4388 button.colab-df-convert');\n",
              "        buttonEl.style.display =\n",
              "          google.colab.kernel.accessAllowed ? 'block' : 'none';\n",
              "\n",
              "        async function convertToInteractive(key) {\n",
              "          const element = document.querySelector('#df-5cf9234c-c492-42d5-ac75-15c49aaa4388');\n",
              "          const dataTable =\n",
              "            await google.colab.kernel.invokeFunction('convertToInteractive',\n",
              "                                                     [key], {});\n",
              "          if (!dataTable) return;\n",
              "\n",
              "          const docLinkHtml = 'Like what you see? Visit the ' +\n",
              "            '<a target=\"_blank\" href=https://colab.research.google.com/notebooks/data_table.ipynb>data table notebook</a>'\n",
              "            + ' to learn more about interactive tables.';\n",
              "          element.innerHTML = '';\n",
              "          dataTable['output_type'] = 'display_data';\n",
              "          await google.colab.output.renderOutput(dataTable, element);\n",
              "          const docLink = document.createElement('div');\n",
              "          docLink.innerHTML = docLinkHtml;\n",
              "          element.appendChild(docLink);\n",
              "        }\n",
              "      </script>\n",
              "    </div>\n",
              "  </div>\n",
              "  "
            ]
          },
          "metadata": {},
          "execution_count": 28
        }
      ]
    },
    {
      "metadata": {
        "id": "XjtbACMxt7F9"
      },
      "cell_type": "markdown",
      "source": [
        "# Modelling:"
      ]
    },
    {
      "cell_type": "markdown",
      "source": [
        "EVALUATION MATRIKS: \n",
        "\n",
        "Skor R2 terletak diantara 0 dan 1. Jika skor R2 mendekati nilai 1, maka nilai prediksi mendekati nilai sebenarnya. Atau bisa disimpulkan bahwa model prediksi yang dibuat baik. Sebaliknya jika skor R2 mendekati 0, maka model prediksi memiliki kualitas yang buruk. \n",
        "\n",
        "\n",
        "Selain skor R2, ada beberapa metriks lainnya yang bisa digunakan untuk mengevaluasi performa model.\n",
        "\n",
        "MSE (Mean Square Error): mengevaluasi model dengan melihat nilai error suatu prediksi berdasarkan konsep jarak Euclidean.\n",
        "\n",
        "MAE (Mean Absolute Error): mengevaluasi model dengan melihat nilai error suatu prediksi berdasarkan konsep Manhattan.\n",
        "\n",
        "MAPE adalah rataan persentase error yang dihasilkan oleh model regresi.\n",
        "\n",
        "RMSE adalah nilai rataan akar kuadrat dari error\\."
      ],
      "metadata": {
        "id": "fkAZg1FD3sfO"
      }
    },
    {
      "metadata": {
        "id": "SafJCXjTt7GE"
      },
      "cell_type": "markdown",
      "source": [
        "## Model 1"
      ]
    },
    {
      "cell_type": "markdown",
      "source": [
        "### Model dengan data asli"
      ],
      "metadata": {
        "id": "F5jfgZ6cGdHD"
      }
    },
    {
      "metadata": {
        "trusted": false,
        "colab": {
          "base_uri": "https://localhost:8080/",
          "height": 785
        },
        "id": "6PN0qYx4t7GF",
        "outputId": "d3b3a99b-d167-4da4-f1e7-7e42c6fcd36d"
      },
      "cell_type": "code",
      "source": [
        "import statsmodels.api as sm\n",
        "\n",
        "y = dummies['Customer Lifetime Value']\n",
        "x = dummies.drop('Customer Lifetime Value',axis=1)\n",
        "\n",
        "\n",
        "x = sm.add_constant(x)\n",
        "results = sm.OLS(y, x).fit()\n",
        "results.summary()"
      ],
      "execution_count": 29,
      "outputs": [
        {
          "output_type": "execute_result",
          "data": {
            "text/plain": [
              "<class 'statsmodels.iolib.summary.Summary'>\n",
              "\"\"\"\n",
              "                               OLS Regression Results                              \n",
              "===================================================================================\n",
              "Dep. Variable:     Customer Lifetime Value   R-squared:                       0.639\n",
              "Model:                                 OLS   Adj. R-squared:                  0.638\n",
              "Method:                      Least Squares   F-statistic:                     667.7\n",
              "Date:                     Sun, 19 Feb 2023   Prob (F-statistic):               0.00\n",
              "Time:                             04:08:00   Log-Likelihood:                -55277.\n",
              "No. Observations:                     5669   AIC:                         1.106e+05\n",
              "Df Residuals:                         5653   BIC:                         1.107e+05\n",
              "Df Model:                               15                                         \n",
              "Covariance Type:                 nonrobust                                         \n",
              "==================================================================================================\n",
              "                                     coef    std err          t      P>|t|      [0.025      0.975]\n",
              "--------------------------------------------------------------------------------------------------\n",
              "const                          -4651.8358    347.577    -13.384      0.000   -5333.220   -3970.451\n",
              "Monthly Premium Auto              85.3039      2.215     38.507      0.000      80.961      89.647\n",
              "Total Claim Amount                -0.7254      0.292     -2.484      0.013      -1.298      -0.153\n",
              "Income                          9.499e-05      0.003      0.030      0.976      -0.006       0.006\n",
              "Marital Status_Married            77.4012    161.955      0.478      0.633    -240.092     394.894\n",
              "Marital Status_Single           -113.1653    188.528     -0.600      0.548    -482.752     256.421\n",
              "Number of Policies_2.0          1.229e+04    144.649     84.939      0.000     1.2e+04    1.26e+04\n",
              "Number of Policies_3.0          3546.9761    127.995     27.712      0.000    3296.057    3797.895\n",
              "Education_College               -167.9851    143.603     -1.170      0.242    -449.502     113.532\n",
              "Education_Doctor                 285.5061    295.812      0.965      0.335    -294.399     865.412\n",
              "Education_High School or Below   260.5958    145.237      1.794      0.073     -24.124     545.316\n",
              "Education_Master                 496.5702    220.015      2.257      0.024      65.257     927.883\n",
              "EmploymentStatus_Employed        664.9798    295.978      2.247      0.025      84.749    1245.211\n",
              "EmploymentStatus_Medical Leave   823.4174    365.952      2.250      0.024     106.011    1540.824\n",
              "EmploymentStatus_Retired         101.6318    407.764      0.249      0.803    -697.742     901.006\n",
              "EmploymentStatus_Unemployed      148.1734    298.003      0.497      0.619    -436.026     732.373\n",
              "==============================================================================\n",
              "Omnibus:                     4460.619   Durbin-Watson:                   1.990\n",
              "Prob(Omnibus):                  0.000   Jarque-Bera (JB):           160492.161\n",
              "Skew:                           3.473   Prob(JB):                         0.00\n",
              "Kurtosis:                      28.124   Cond. No.                     5.53e+05\n",
              "==============================================================================\n",
              "\n",
              "Notes:\n",
              "[1] Standard Errors assume that the covariance matrix of the errors is correctly specified.\n",
              "[2] The condition number is large, 5.53e+05. This might indicate that there are\n",
              "strong multicollinearity or other numerical problems.\n",
              "\"\"\""
            ],
            "text/html": [
              "<table class=\"simpletable\">\n",
              "<caption>OLS Regression Results</caption>\n",
              "<tr>\n",
              "  <th>Dep. Variable:</th>    <td>Customer Lifetime Value</td> <th>  R-squared:         </th> <td>   0.639</td> \n",
              "</tr>\n",
              "<tr>\n",
              "  <th>Model:</th>                      <td>OLS</td>           <th>  Adj. R-squared:    </th> <td>   0.638</td> \n",
              "</tr>\n",
              "<tr>\n",
              "  <th>Method:</th>                <td>Least Squares</td>      <th>  F-statistic:       </th> <td>   667.7</td> \n",
              "</tr>\n",
              "<tr>\n",
              "  <th>Date:</th>                <td>Sun, 19 Feb 2023</td>     <th>  Prob (F-statistic):</th>  <td>  0.00</td>  \n",
              "</tr>\n",
              "<tr>\n",
              "  <th>Time:</th>                    <td>04:08:00</td>         <th>  Log-Likelihood:    </th> <td> -55277.</td> \n",
              "</tr>\n",
              "<tr>\n",
              "  <th>No. Observations:</th>         <td>  5669</td>          <th>  AIC:               </th> <td>1.106e+05</td>\n",
              "</tr>\n",
              "<tr>\n",
              "  <th>Df Residuals:</th>             <td>  5653</td>          <th>  BIC:               </th> <td>1.107e+05</td>\n",
              "</tr>\n",
              "<tr>\n",
              "  <th>Df Model:</th>                 <td>    15</td>          <th>                     </th>     <td> </td>    \n",
              "</tr>\n",
              "<tr>\n",
              "  <th>Covariance Type:</th>         <td>nonrobust</td>        <th>                     </th>     <td> </td>    \n",
              "</tr>\n",
              "</table>\n",
              "<table class=\"simpletable\">\n",
              "<tr>\n",
              "                 <td></td>                   <th>coef</th>     <th>std err</th>      <th>t</th>      <th>P>|t|</th>  <th>[0.025</th>    <th>0.975]</th>  \n",
              "</tr>\n",
              "<tr>\n",
              "  <th>const</th>                          <td>-4651.8358</td> <td>  347.577</td> <td>  -13.384</td> <td> 0.000</td> <td>-5333.220</td> <td>-3970.451</td>\n",
              "</tr>\n",
              "<tr>\n",
              "  <th>Monthly Premium Auto</th>           <td>   85.3039</td> <td>    2.215</td> <td>   38.507</td> <td> 0.000</td> <td>   80.961</td> <td>   89.647</td>\n",
              "</tr>\n",
              "<tr>\n",
              "  <th>Total Claim Amount</th>             <td>   -0.7254</td> <td>    0.292</td> <td>   -2.484</td> <td> 0.013</td> <td>   -1.298</td> <td>   -0.153</td>\n",
              "</tr>\n",
              "<tr>\n",
              "  <th>Income</th>                         <td> 9.499e-05</td> <td>    0.003</td> <td>    0.030</td> <td> 0.976</td> <td>   -0.006</td> <td>    0.006</td>\n",
              "</tr>\n",
              "<tr>\n",
              "  <th>Marital Status_Married</th>         <td>   77.4012</td> <td>  161.955</td> <td>    0.478</td> <td> 0.633</td> <td> -240.092</td> <td>  394.894</td>\n",
              "</tr>\n",
              "<tr>\n",
              "  <th>Marital Status_Single</th>          <td> -113.1653</td> <td>  188.528</td> <td>   -0.600</td> <td> 0.548</td> <td> -482.752</td> <td>  256.421</td>\n",
              "</tr>\n",
              "<tr>\n",
              "  <th>Number of Policies_2.0</th>         <td> 1.229e+04</td> <td>  144.649</td> <td>   84.939</td> <td> 0.000</td> <td>  1.2e+04</td> <td> 1.26e+04</td>\n",
              "</tr>\n",
              "<tr>\n",
              "  <th>Number of Policies_3.0</th>         <td> 3546.9761</td> <td>  127.995</td> <td>   27.712</td> <td> 0.000</td> <td> 3296.057</td> <td> 3797.895</td>\n",
              "</tr>\n",
              "<tr>\n",
              "  <th>Education_College</th>              <td> -167.9851</td> <td>  143.603</td> <td>   -1.170</td> <td> 0.242</td> <td> -449.502</td> <td>  113.532</td>\n",
              "</tr>\n",
              "<tr>\n",
              "  <th>Education_Doctor</th>               <td>  285.5061</td> <td>  295.812</td> <td>    0.965</td> <td> 0.335</td> <td> -294.399</td> <td>  865.412</td>\n",
              "</tr>\n",
              "<tr>\n",
              "  <th>Education_High School or Below</th> <td>  260.5958</td> <td>  145.237</td> <td>    1.794</td> <td> 0.073</td> <td>  -24.124</td> <td>  545.316</td>\n",
              "</tr>\n",
              "<tr>\n",
              "  <th>Education_Master</th>               <td>  496.5702</td> <td>  220.015</td> <td>    2.257</td> <td> 0.024</td> <td>   65.257</td> <td>  927.883</td>\n",
              "</tr>\n",
              "<tr>\n",
              "  <th>EmploymentStatus_Employed</th>      <td>  664.9798</td> <td>  295.978</td> <td>    2.247</td> <td> 0.025</td> <td>   84.749</td> <td> 1245.211</td>\n",
              "</tr>\n",
              "<tr>\n",
              "  <th>EmploymentStatus_Medical Leave</th> <td>  823.4174</td> <td>  365.952</td> <td>    2.250</td> <td> 0.024</td> <td>  106.011</td> <td> 1540.824</td>\n",
              "</tr>\n",
              "<tr>\n",
              "  <th>EmploymentStatus_Retired</th>       <td>  101.6318</td> <td>  407.764</td> <td>    0.249</td> <td> 0.803</td> <td> -697.742</td> <td>  901.006</td>\n",
              "</tr>\n",
              "<tr>\n",
              "  <th>EmploymentStatus_Unemployed</th>    <td>  148.1734</td> <td>  298.003</td> <td>    0.497</td> <td> 0.619</td> <td> -436.026</td> <td>  732.373</td>\n",
              "</tr>\n",
              "</table>\n",
              "<table class=\"simpletable\">\n",
              "<tr>\n",
              "  <th>Omnibus:</th>       <td>4460.619</td> <th>  Durbin-Watson:     </th>  <td>   1.990</td> \n",
              "</tr>\n",
              "<tr>\n",
              "  <th>Prob(Omnibus):</th>  <td> 0.000</td>  <th>  Jarque-Bera (JB):  </th> <td>160492.161</td>\n",
              "</tr>\n",
              "<tr>\n",
              "  <th>Skew:</th>           <td> 3.473</td>  <th>  Prob(JB):          </th>  <td>    0.00</td> \n",
              "</tr>\n",
              "<tr>\n",
              "  <th>Kurtosis:</th>       <td>28.124</td>  <th>  Cond. No.          </th>  <td>5.53e+05</td> \n",
              "</tr>\n",
              "</table><br/><br/>Notes:<br/>[1] Standard Errors assume that the covariance matrix of the errors is correctly specified.<br/>[2] The condition number is large, 5.53e+05. This might indicate that there are<br/>strong multicollinearity or other numerical problems."
            ]
          },
          "metadata": {},
          "execution_count": 29
        }
      ]
    },
    {
      "cell_type": "markdown",
      "source": [
        "Split Dataset"
      ],
      "metadata": {
        "id": "BELhrqiXGWbf"
      }
    },
    {
      "metadata": {
        "trusted": false,
        "colab": {
          "base_uri": "https://localhost:8080/",
          "height": 820
        },
        "id": "S63O5zvft7GG",
        "outputId": "dce5616a-49f0-4c22-c177-37437b1192fc"
      },
      "cell_type": "code",
      "source": [
        "x_train, x_test, y_train, y_test = train_test_split(x, y, test_size = 0.25, random_state = 450)\n",
        "\n",
        "print('Train Data Count: {}'.format(x_train.shape[0]))\n",
        "print('Test Data Count: {}'.format(x_test.shape[0]))\n",
        "\n",
        "x_train = sm.add_constant(x_train)\n",
        "results = sm.OLS(y_train, x_train).fit()\n",
        "results.summary()"
      ],
      "execution_count": 30,
      "outputs": [
        {
          "output_type": "stream",
          "name": "stdout",
          "text": [
            "Train Data Count: 4251\n",
            "Test Data Count: 1418\n"
          ]
        },
        {
          "output_type": "execute_result",
          "data": {
            "text/plain": [
              "<class 'statsmodels.iolib.summary.Summary'>\n",
              "\"\"\"\n",
              "                               OLS Regression Results                              \n",
              "===================================================================================\n",
              "Dep. Variable:     Customer Lifetime Value   R-squared:                       0.652\n",
              "Model:                                 OLS   Adj. R-squared:                  0.651\n",
              "Method:                      Least Squares   F-statistic:                     528.9\n",
              "Date:                     Sun, 19 Feb 2023   Prob (F-statistic):               0.00\n",
              "Time:                             04:08:00   Log-Likelihood:                -41259.\n",
              "No. Observations:                     4251   AIC:                         8.255e+04\n",
              "Df Residuals:                         4235   BIC:                         8.265e+04\n",
              "Df Model:                               15                                         \n",
              "Covariance Type:                 nonrobust                                         \n",
              "==================================================================================================\n",
              "                                     coef    std err          t      P>|t|      [0.025      0.975]\n",
              "--------------------------------------------------------------------------------------------------\n",
              "const                          -4549.6405    381.263    -11.933      0.000   -5297.116   -3802.165\n",
              "Monthly Premium Auto              82.9791      2.471     33.576      0.000      78.134      87.824\n",
              "Total Claim Amount                -0.4845      0.326     -1.487      0.137      -1.123       0.154\n",
              "Income                             0.0006      0.004      0.172      0.864      -0.006       0.008\n",
              "Marital Status_Married            80.3307    178.418      0.450      0.653    -269.463     430.124\n",
              "Marital Status_Single           -140.5879    207.698     -0.677      0.499    -547.784     266.608\n",
              "Number of Policies_2.0          1.208e+04    159.300     75.826      0.000    1.18e+04    1.24e+04\n",
              "Number of Policies_3.0          3504.7879    141.650     24.743      0.000    3227.081    3782.495\n",
              "Education_College               -204.3485    158.954     -1.286      0.199    -515.982     107.285\n",
              "Education_Doctor                 191.6461    323.353      0.593      0.553    -442.296     825.588\n",
              "Education_High School or Below   174.3880    161.383      1.081      0.280    -142.008     490.783\n",
              "Education_Master                 635.3794    240.700      2.640      0.008     163.482    1107.277\n",
              "EmploymentStatus_Employed        730.9276    327.754      2.230      0.026      88.358    1373.498\n",
              "EmploymentStatus_Medical Leave   707.3227    406.627      1.739      0.082     -89.878    1504.524\n",
              "EmploymentStatus_Retired         373.1775    445.264      0.838      0.402    -499.774    1246.129\n",
              "EmploymentStatus_Unemployed      214.1737    329.937      0.649      0.516    -432.676     861.023\n",
              "==============================================================================\n",
              "Omnibus:                     3064.469   Durbin-Watson:                   1.989\n",
              "Prob(Omnibus):                  0.000   Jarque-Bera (JB):            76982.446\n",
              "Skew:                           3.153   Prob(JB):                         0.00\n",
              "Kurtosis:                      22.871   Cond. No.                     5.49e+05\n",
              "==============================================================================\n",
              "\n",
              "Notes:\n",
              "[1] Standard Errors assume that the covariance matrix of the errors is correctly specified.\n",
              "[2] The condition number is large, 5.49e+05. This might indicate that there are\n",
              "strong multicollinearity or other numerical problems.\n",
              "\"\"\""
            ],
            "text/html": [
              "<table class=\"simpletable\">\n",
              "<caption>OLS Regression Results</caption>\n",
              "<tr>\n",
              "  <th>Dep. Variable:</th>    <td>Customer Lifetime Value</td> <th>  R-squared:         </th> <td>   0.652</td> \n",
              "</tr>\n",
              "<tr>\n",
              "  <th>Model:</th>                      <td>OLS</td>           <th>  Adj. R-squared:    </th> <td>   0.651</td> \n",
              "</tr>\n",
              "<tr>\n",
              "  <th>Method:</th>                <td>Least Squares</td>      <th>  F-statistic:       </th> <td>   528.9</td> \n",
              "</tr>\n",
              "<tr>\n",
              "  <th>Date:</th>                <td>Sun, 19 Feb 2023</td>     <th>  Prob (F-statistic):</th>  <td>  0.00</td>  \n",
              "</tr>\n",
              "<tr>\n",
              "  <th>Time:</th>                    <td>04:08:00</td>         <th>  Log-Likelihood:    </th> <td> -41259.</td> \n",
              "</tr>\n",
              "<tr>\n",
              "  <th>No. Observations:</th>         <td>  4251</td>          <th>  AIC:               </th> <td>8.255e+04</td>\n",
              "</tr>\n",
              "<tr>\n",
              "  <th>Df Residuals:</th>             <td>  4235</td>          <th>  BIC:               </th> <td>8.265e+04</td>\n",
              "</tr>\n",
              "<tr>\n",
              "  <th>Df Model:</th>                 <td>    15</td>          <th>                     </th>     <td> </td>    \n",
              "</tr>\n",
              "<tr>\n",
              "  <th>Covariance Type:</th>         <td>nonrobust</td>        <th>                     </th>     <td> </td>    \n",
              "</tr>\n",
              "</table>\n",
              "<table class=\"simpletable\">\n",
              "<tr>\n",
              "                 <td></td>                   <th>coef</th>     <th>std err</th>      <th>t</th>      <th>P>|t|</th>  <th>[0.025</th>    <th>0.975]</th>  \n",
              "</tr>\n",
              "<tr>\n",
              "  <th>const</th>                          <td>-4549.6405</td> <td>  381.263</td> <td>  -11.933</td> <td> 0.000</td> <td>-5297.116</td> <td>-3802.165</td>\n",
              "</tr>\n",
              "<tr>\n",
              "  <th>Monthly Premium Auto</th>           <td>   82.9791</td> <td>    2.471</td> <td>   33.576</td> <td> 0.000</td> <td>   78.134</td> <td>   87.824</td>\n",
              "</tr>\n",
              "<tr>\n",
              "  <th>Total Claim Amount</th>             <td>   -0.4845</td> <td>    0.326</td> <td>   -1.487</td> <td> 0.137</td> <td>   -1.123</td> <td>    0.154</td>\n",
              "</tr>\n",
              "<tr>\n",
              "  <th>Income</th>                         <td>    0.0006</td> <td>    0.004</td> <td>    0.172</td> <td> 0.864</td> <td>   -0.006</td> <td>    0.008</td>\n",
              "</tr>\n",
              "<tr>\n",
              "  <th>Marital Status_Married</th>         <td>   80.3307</td> <td>  178.418</td> <td>    0.450</td> <td> 0.653</td> <td> -269.463</td> <td>  430.124</td>\n",
              "</tr>\n",
              "<tr>\n",
              "  <th>Marital Status_Single</th>          <td> -140.5879</td> <td>  207.698</td> <td>   -0.677</td> <td> 0.499</td> <td> -547.784</td> <td>  266.608</td>\n",
              "</tr>\n",
              "<tr>\n",
              "  <th>Number of Policies_2.0</th>         <td> 1.208e+04</td> <td>  159.300</td> <td>   75.826</td> <td> 0.000</td> <td> 1.18e+04</td> <td> 1.24e+04</td>\n",
              "</tr>\n",
              "<tr>\n",
              "  <th>Number of Policies_3.0</th>         <td> 3504.7879</td> <td>  141.650</td> <td>   24.743</td> <td> 0.000</td> <td> 3227.081</td> <td> 3782.495</td>\n",
              "</tr>\n",
              "<tr>\n",
              "  <th>Education_College</th>              <td> -204.3485</td> <td>  158.954</td> <td>   -1.286</td> <td> 0.199</td> <td> -515.982</td> <td>  107.285</td>\n",
              "</tr>\n",
              "<tr>\n",
              "  <th>Education_Doctor</th>               <td>  191.6461</td> <td>  323.353</td> <td>    0.593</td> <td> 0.553</td> <td> -442.296</td> <td>  825.588</td>\n",
              "</tr>\n",
              "<tr>\n",
              "  <th>Education_High School or Below</th> <td>  174.3880</td> <td>  161.383</td> <td>    1.081</td> <td> 0.280</td> <td> -142.008</td> <td>  490.783</td>\n",
              "</tr>\n",
              "<tr>\n",
              "  <th>Education_Master</th>               <td>  635.3794</td> <td>  240.700</td> <td>    2.640</td> <td> 0.008</td> <td>  163.482</td> <td> 1107.277</td>\n",
              "</tr>\n",
              "<tr>\n",
              "  <th>EmploymentStatus_Employed</th>      <td>  730.9276</td> <td>  327.754</td> <td>    2.230</td> <td> 0.026</td> <td>   88.358</td> <td> 1373.498</td>\n",
              "</tr>\n",
              "<tr>\n",
              "  <th>EmploymentStatus_Medical Leave</th> <td>  707.3227</td> <td>  406.627</td> <td>    1.739</td> <td> 0.082</td> <td>  -89.878</td> <td> 1504.524</td>\n",
              "</tr>\n",
              "<tr>\n",
              "  <th>EmploymentStatus_Retired</th>       <td>  373.1775</td> <td>  445.264</td> <td>    0.838</td> <td> 0.402</td> <td> -499.774</td> <td> 1246.129</td>\n",
              "</tr>\n",
              "<tr>\n",
              "  <th>EmploymentStatus_Unemployed</th>    <td>  214.1737</td> <td>  329.937</td> <td>    0.649</td> <td> 0.516</td> <td> -432.676</td> <td>  861.023</td>\n",
              "</tr>\n",
              "</table>\n",
              "<table class=\"simpletable\">\n",
              "<tr>\n",
              "  <th>Omnibus:</th>       <td>3064.469</td> <th>  Durbin-Watson:     </th> <td>   1.989</td> \n",
              "</tr>\n",
              "<tr>\n",
              "  <th>Prob(Omnibus):</th>  <td> 0.000</td>  <th>  Jarque-Bera (JB):  </th> <td>76982.446</td>\n",
              "</tr>\n",
              "<tr>\n",
              "  <th>Skew:</th>           <td> 3.153</td>  <th>  Prob(JB):          </th> <td>    0.00</td> \n",
              "</tr>\n",
              "<tr>\n",
              "  <th>Kurtosis:</th>       <td>22.871</td>  <th>  Cond. No.          </th> <td>5.49e+05</td> \n",
              "</tr>\n",
              "</table><br/><br/>Notes:<br/>[1] Standard Errors assume that the covariance matrix of the errors is correctly specified.<br/>[2] The condition number is large, 5.49e+05. This might indicate that there are<br/>strong multicollinearity or other numerical problems."
            ]
          },
          "metadata": {},
          "execution_count": 30
        }
      ]
    },
    {
      "cell_type": "markdown",
      "source": [
        " **Rsq = 0.65**"
      ],
      "metadata": {
        "id": "cPgRXpmoKqCz"
      }
    },
    {
      "metadata": {
        "trusted": false,
        "colab": {
          "base_uri": "https://localhost:8080/",
          "height": 301
        },
        "id": "KCjzJUdWt7GH",
        "outputId": "a4ed7a64-c8d9-4b26-8a01-2069dd58327a"
      },
      "cell_type": "code",
      "source": [
        "# Model graph to see predictions\n",
        "\n",
        "\n",
        "x_test = sm.add_constant(x_test)\n",
        "\n",
        "y_preds = results.predict(x_test)\n",
        "sns.set(color_codes=True)\n",
        "plt.scatter(y_test, y_preds)\n",
        "plt.plot(y_test, y_test, color=\"red\")\n",
        "plt.xlabel(\"Actual ltv\")\n",
        "plt.ylabel(\"Estimated ltv\", )\n",
        "plt.title(\"Actual vs Estimated Customer LTV\")\n",
        "plt.show()"
      ],
      "execution_count": 31,
      "outputs": [
        {
          "output_type": "display_data",
          "data": {
            "text/plain": [
              "<Figure size 432x288 with 1 Axes>"
            ],
            "image/png": "[encoded data removed]"
          },
          "metadata": {}
        }
      ]
    },
    {
      "metadata": {
        "trusted": false,
        "colab": {
          "base_uri": "https://localhost:8080/"
        },
        "id": "7pmI8s_ct7GH",
        "outputId": "2d2b6198-6a3f-4e5f-f34b-004d09bbaf29"
      },
      "cell_type": "code",
      "source": [
        "#lets see their errors\n",
        "\n",
        "print(\"Mean Absolute Error (MAE)        : {}\".format(mean_absolute_error(y_test, y_preds)))\n",
        "print(\"Mean Sq. Error (MSE)          : {}\".format(mse(y_test, y_preds)))\n",
        "print(\"Root Mean Sq. Error (RMSE)     : {}\".format(rmse(y_test, y_preds)))\n",
        "print(\"Mean Abs. Perc. Error (MAPE) : {}\".format(np.mean(np.abs((y_test - y_preds) / y_test)) * 100))"
      ],
      "execution_count": 32,
      "outputs": [
        {
          "output_type": "stream",
          "name": "stdout",
          "text": [
            "Mean Absolute Error (MAE)        : 2174.4799321179503\n",
            "Mean Sq. Error (MSE)          : 21793094.107778084\n",
            "Root Mean Sq. Error (RMSE)     : 4668.307413589864\n",
            "Mean Abs. Perc. Error (MAPE) : 23.67839677748293\n"
          ]
        }
      ]
    },
    {
      "metadata": {
        "id": "X8pnZcbyt7GJ"
      },
      "cell_type": "markdown",
      "source": [
        "## Model 2"
      ]
    },
    {
      "cell_type": "markdown",
      "source": [
        "### Data log with outliers"
      ],
      "metadata": {
        "id": "cEPVHuXZIolh"
      }
    },
    {
      "metadata": {
        "trusted": false,
        "id": "2ViEmCjqt7GK"
      },
      "cell_type": "code",
      "source": [
        "#duplicate the original data and get the log version of it to be able to reach higher R2(with outliers)\n",
        "df3 = dummies.copy()\n",
        "\n",
        "df3['Monthly Premium Auto'] = np.log(df2['Monthly Premium Auto'])\n",
        "df3['Total Claim Amount'] = np.log(df2['Total Claim Amount'])\n",
        "y = np.log(df3['Customer Lifetime Value'])\n",
        "\n",
        "import statsmodels.api as sm\n",
        "\n",
        "\n",
        "x1 =  df3.drop('Customer Lifetime Value',axis=1)"
      ],
      "execution_count": 33,
      "outputs": []
    },
    {
      "metadata": {
        "trusted": false,
        "id": "AkMPjKmzt7GK",
        "colab": {
          "base_uri": "https://localhost:8080/",
          "height": 820
        },
        "outputId": "a8f2ccab-0160-4c87-e71c-5c7e6f2076b7"
      },
      "cell_type": "code",
      "source": [
        "x1_train, x1_test, y_train, y_test = train_test_split(x1, y, test_size = 0.25, random_state = 450)\n",
        "\n",
        "print('Train Data Count: {}'.format(x1_train.shape[0]))\n",
        "print('Test Data Count: {}'.format(x1_test.shape[0]))\n",
        "\n",
        "x1_train = sm.add_constant(x1_train)\n",
        "results_log = sm.OLS(y_train, x1_train).fit()\n",
        "results_log.summary()"
      ],
      "execution_count": 34,
      "outputs": [
        {
          "output_type": "stream",
          "name": "stdout",
          "text": [
            "Train Data Count: 4251\n",
            "Test Data Count: 1418\n"
          ]
        },
        {
          "output_type": "execute_result",
          "data": {
            "text/plain": [
              "<class 'statsmodels.iolib.summary.Summary'>\n",
              "\"\"\"\n",
              "                               OLS Regression Results                              \n",
              "===================================================================================\n",
              "Dep. Variable:     Customer Lifetime Value   R-squared:                       0.903\n",
              "Model:                                 OLS   Adj. R-squared:                  0.903\n",
              "Method:                      Least Squares   F-statistic:                     2626.\n",
              "Date:                     Sun, 19 Feb 2023   Prob (F-statistic):               0.00\n",
              "Time:                             04:08:00   Log-Likelihood:                 722.35\n",
              "No. Observations:                     4251   AIC:                            -1413.\n",
              "Df Residuals:                         4235   BIC:                            -1311.\n",
              "Df Model:                               15                                         \n",
              "Covariance Type:                 nonrobust                                         \n",
              "==================================================================================================\n",
              "                                     coef    std err          t      P>|t|      [0.025      0.975]\n",
              "--------------------------------------------------------------------------------------------------\n",
              "const                              3.6582      0.049     74.119      0.000       3.561       3.755\n",
              "Monthly Premium Auto               0.9866      0.011     87.348      0.000       0.964       1.009\n",
              "Total Claim Amount                -0.0023      0.004     -0.551      0.582      -0.011       0.006\n",
              "Income                           3.27e-07   1.81e-07      1.807      0.071   -2.78e-08    6.82e-07\n",
              "Marital Status_Married             0.0154      0.009      1.674      0.094      -0.003       0.033\n",
              "Marital Status_Single             -0.0193      0.011     -1.814      0.070      -0.040       0.002\n",
              "Number of Policies_2.0             1.4082      0.008    171.964      0.000       1.392       1.424\n",
              "Number of Policies_3.0             0.6911      0.007     94.893      0.000       0.677       0.705\n",
              "Education_College                 -0.0103      0.008     -1.255      0.210      -0.026       0.006\n",
              "Education_Doctor                   0.0234      0.017      1.405      0.160      -0.009       0.056\n",
              "Education_High School or Below     0.0154      0.008      1.855      0.064      -0.001       0.032\n",
              "Education_Master                   0.0446      0.012      3.602      0.000       0.020       0.069\n",
              "EmploymentStatus_Employed          0.0592      0.017      3.512      0.000       0.026       0.092\n",
              "EmploymentStatus_Medical Leave     0.0368      0.021      1.759      0.079      -0.004       0.078\n",
              "EmploymentStatus_Retired           0.0209      0.023      0.912      0.362      -0.024       0.066\n",
              "EmploymentStatus_Unemployed       -0.0096      0.017     -0.569      0.569      -0.043       0.024\n",
              "==============================================================================\n",
              "Omnibus:                     1350.257   Durbin-Watson:                   2.014\n",
              "Prob(Omnibus):                  0.000   Jarque-Bera (JB):             5562.804\n",
              "Skew:                           1.512   Prob(JB):                         0.00\n",
              "Kurtosis:                       7.719   Cond. No.                     7.91e+05\n",
              "==============================================================================\n",
              "\n",
              "Notes:\n",
              "[1] Standard Errors assume that the covariance matrix of the errors is correctly specified.\n",
              "[2] The condition number is large, 7.91e+05. This might indicate that there are\n",
              "strong multicollinearity or other numerical problems.\n",
              "\"\"\""
            ],
            "text/html": [
              "<table class=\"simpletable\">\n",
              "<caption>OLS Regression Results</caption>\n",
              "<tr>\n",
              "  <th>Dep. Variable:</th>    <td>Customer Lifetime Value</td> <th>  R-squared:         </th> <td>   0.903</td>\n",
              "</tr>\n",
              "<tr>\n",
              "  <th>Model:</th>                      <td>OLS</td>           <th>  Adj. R-squared:    </th> <td>   0.903</td>\n",
              "</tr>\n",
              "<tr>\n",
              "  <th>Method:</th>                <td>Least Squares</td>      <th>  F-statistic:       </th> <td>   2626.</td>\n",
              "</tr>\n",
              "<tr>\n",
              "  <th>Date:</th>                <td>Sun, 19 Feb 2023</td>     <th>  Prob (F-statistic):</th>  <td>  0.00</td> \n",
              "</tr>\n",
              "<tr>\n",
              "  <th>Time:</th>                    <td>04:08:00</td>         <th>  Log-Likelihood:    </th> <td>  722.35</td>\n",
              "</tr>\n",
              "<tr>\n",
              "  <th>No. Observations:</th>         <td>  4251</td>          <th>  AIC:               </th> <td>  -1413.</td>\n",
              "</tr>\n",
              "<tr>\n",
              "  <th>Df Residuals:</th>             <td>  4235</td>          <th>  BIC:               </th> <td>  -1311.</td>\n",
              "</tr>\n",
              "<tr>\n",
              "  <th>Df Model:</th>                 <td>    15</td>          <th>                     </th>     <td> </td>   \n",
              "</tr>\n",
              "<tr>\n",
              "  <th>Covariance Type:</th>         <td>nonrobust</td>        <th>                     </th>     <td> </td>   \n",
              "</tr>\n",
              "</table>\n",
              "<table class=\"simpletable\">\n",
              "<tr>\n",
              "                 <td></td>                   <th>coef</th>     <th>std err</th>      <th>t</th>      <th>P>|t|</th>  <th>[0.025</th>    <th>0.975]</th>  \n",
              "</tr>\n",
              "<tr>\n",
              "  <th>const</th>                          <td>    3.6582</td> <td>    0.049</td> <td>   74.119</td> <td> 0.000</td> <td>    3.561</td> <td>    3.755</td>\n",
              "</tr>\n",
              "<tr>\n",
              "  <th>Monthly Premium Auto</th>           <td>    0.9866</td> <td>    0.011</td> <td>   87.348</td> <td> 0.000</td> <td>    0.964</td> <td>    1.009</td>\n",
              "</tr>\n",
              "<tr>\n",
              "  <th>Total Claim Amount</th>             <td>   -0.0023</td> <td>    0.004</td> <td>   -0.551</td> <td> 0.582</td> <td>   -0.011</td> <td>    0.006</td>\n",
              "</tr>\n",
              "<tr>\n",
              "  <th>Income</th>                         <td>  3.27e-07</td> <td> 1.81e-07</td> <td>    1.807</td> <td> 0.071</td> <td>-2.78e-08</td> <td> 6.82e-07</td>\n",
              "</tr>\n",
              "<tr>\n",
              "  <th>Marital Status_Married</th>         <td>    0.0154</td> <td>    0.009</td> <td>    1.674</td> <td> 0.094</td> <td>   -0.003</td> <td>    0.033</td>\n",
              "</tr>\n",
              "<tr>\n",
              "  <th>Marital Status_Single</th>          <td>   -0.0193</td> <td>    0.011</td> <td>   -1.814</td> <td> 0.070</td> <td>   -0.040</td> <td>    0.002</td>\n",
              "</tr>\n",
              "<tr>\n",
              "  <th>Number of Policies_2.0</th>         <td>    1.4082</td> <td>    0.008</td> <td>  171.964</td> <td> 0.000</td> <td>    1.392</td> <td>    1.424</td>\n",
              "</tr>\n",
              "<tr>\n",
              "  <th>Number of Policies_3.0</th>         <td>    0.6911</td> <td>    0.007</td> <td>   94.893</td> <td> 0.000</td> <td>    0.677</td> <td>    0.705</td>\n",
              "</tr>\n",
              "<tr>\n",
              "  <th>Education_College</th>              <td>   -0.0103</td> <td>    0.008</td> <td>   -1.255</td> <td> 0.210</td> <td>   -0.026</td> <td>    0.006</td>\n",
              "</tr>\n",
              "<tr>\n",
              "  <th>Education_Doctor</th>               <td>    0.0234</td> <td>    0.017</td> <td>    1.405</td> <td> 0.160</td> <td>   -0.009</td> <td>    0.056</td>\n",
              "</tr>\n",
              "<tr>\n",
              "  <th>Education_High School or Below</th> <td>    0.0154</td> <td>    0.008</td> <td>    1.855</td> <td> 0.064</td> <td>   -0.001</td> <td>    0.032</td>\n",
              "</tr>\n",
              "<tr>\n",
              "  <th>Education_Master</th>               <td>    0.0446</td> <td>    0.012</td> <td>    3.602</td> <td> 0.000</td> <td>    0.020</td> <td>    0.069</td>\n",
              "</tr>\n",
              "<tr>\n",
              "  <th>EmploymentStatus_Employed</th>      <td>    0.0592</td> <td>    0.017</td> <td>    3.512</td> <td> 0.000</td> <td>    0.026</td> <td>    0.092</td>\n",
              "</tr>\n",
              "<tr>\n",
              "  <th>EmploymentStatus_Medical Leave</th> <td>    0.0368</td> <td>    0.021</td> <td>    1.759</td> <td> 0.079</td> <td>   -0.004</td> <td>    0.078</td>\n",
              "</tr>\n",
              "<tr>\n",
              "  <th>EmploymentStatus_Retired</th>       <td>    0.0209</td> <td>    0.023</td> <td>    0.912</td> <td> 0.362</td> <td>   -0.024</td> <td>    0.066</td>\n",
              "</tr>\n",
              "<tr>\n",
              "  <th>EmploymentStatus_Unemployed</th>    <td>   -0.0096</td> <td>    0.017</td> <td>   -0.569</td> <td> 0.569</td> <td>   -0.043</td> <td>    0.024</td>\n",
              "</tr>\n",
              "</table>\n",
              "<table class=\"simpletable\">\n",
              "<tr>\n",
              "  <th>Omnibus:</th>       <td>1350.257</td> <th>  Durbin-Watson:     </th> <td>   2.014</td>\n",
              "</tr>\n",
              "<tr>\n",
              "  <th>Prob(Omnibus):</th>  <td> 0.000</td>  <th>  Jarque-Bera (JB):  </th> <td>5562.804</td>\n",
              "</tr>\n",
              "<tr>\n",
              "  <th>Skew:</th>           <td> 1.512</td>  <th>  Prob(JB):          </th> <td>    0.00</td>\n",
              "</tr>\n",
              "<tr>\n",
              "  <th>Kurtosis:</th>       <td> 7.719</td>  <th>  Cond. No.          </th> <td>7.91e+05</td>\n",
              "</tr>\n",
              "</table><br/><br/>Notes:<br/>[1] Standard Errors assume that the covariance matrix of the errors is correctly specified.<br/>[2] The condition number is large, 7.91e+05. This might indicate that there are<br/>strong multicollinearity or other numerical problems."
            ]
          },
          "metadata": {},
          "execution_count": 34
        }
      ]
    },
    {
      "cell_type": "markdown",
      "source": [
        "**Rsq = 0.903**"
      ],
      "metadata": {
        "id": "TjVg0XeBK25A"
      }
    },
    {
      "metadata": {
        "trusted": false,
        "id": "SDabx0c8t7GL",
        "colab": {
          "base_uri": "https://localhost:8080/",
          "height": 301
        },
        "outputId": "f69c6442-9678-4737-c7d9-bd917ccbe6a7"
      },
      "cell_type": "code",
      "source": [
        "# Model graph to see predictions\n",
        "\n",
        "\n",
        "x1_test = sm.add_constant(x1_test)\n",
        "\n",
        "y_preds = results_log.predict(x1_test)\n",
        "sns.set(color_codes=True)\n",
        "plt.scatter(y_test, y_preds)\n",
        "plt.plot(y_test, y_test, color=\"red\")\n",
        "plt.xlabel(\"Actual ltv\")\n",
        "plt.ylabel(\"Estimated ltv\", )\n",
        "plt.title(\"Actual vs Estimated Customer LTV-Log Transformation with outliers\")\n",
        "plt.show()"
      ],
      "execution_count": 35,
      "outputs": [
        {
          "output_type": "display_data",
          "data": {
            "text/plain": [
              "<Figure size 432x288 with 1 Axes>"
            ],
            "image/png": "[encoded data removed]"
          },
          "metadata": {}
        }
      ]
    },
    {
      "metadata": {
        "trusted": false,
        "id": "81ihHnWkt7GM",
        "colab": {
          "base_uri": "https://localhost:8080/"
        },
        "outputId": "af603cb2-6392-41a9-9d8a-c63b1d35cdd2"
      },
      "cell_type": "code",
      "source": [
        "print(\"Mean Absolute Error (MAE)        : {}\".format(mean_absolute_error(y_test, y_preds)))\n",
        "print(\"Mean Sq. Error (MSE)          : {}\".format(mse(y_test, y_preds)))\n",
        "print(\"Root Mean Sq. Error (RMSE)     : {}\".format(rmse(y_test, y_preds)))\n",
        "print(\"Mean Abs. Perc. Error (MAPE) : {}\".format(np.mean(np.abs((y_test - y_preds) / y_test)) * 100))"
      ],
      "execution_count": 36,
      "outputs": [
        {
          "output_type": "stream",
          "name": "stdout",
          "text": [
            "Mean Absolute Error (MAE)        : 0.10626499431730584\n",
            "Mean Sq. Error (MSE)          : 0.043576473109968414\n",
            "Root Mean Sq. Error (RMSE)     : 0.2087497858920301\n",
            "Mean Abs. Perc. Error (MAPE) : 1.122472395230531\n"
          ]
        }
      ]
    },
    {
      "metadata": {
        "id": "dzJY61vqt7GO"
      },
      "cell_type": "markdown",
      "source": [
        "## Model 3"
      ]
    },
    {
      "cell_type": "markdown",
      "source": [
        "### Data without outliers"
      ],
      "metadata": {
        "id": "QOkG6elPItzb"
      }
    },
    {
      "metadata": {
        "trusted": false,
        "id": "P5ZKJEs-t7GP"
      },
      "cell_type": "code",
      "source": [
        "#duplicate the original data and winsorize the data at %5\n",
        "df4 = dummies.copy()\n",
        "\n",
        "df4['Monthly Premium Auto'] = winsorize(df4['Monthly Premium Auto'],(0, 0.05))\n",
        "df4['Total Claim Amount'] = winsorize(df4['Total Claim Amount'],(0, 0.05))\n",
        "\n",
        "\n",
        "y = df4['Customer Lifetime Value']\n",
        "x3 =  df4.drop('Customer Lifetime Value',axis=1)\n"
      ],
      "execution_count": 37,
      "outputs": []
    },
    {
      "metadata": {
        "trusted": false,
        "id": "tcar57oIt7GP",
        "colab": {
          "base_uri": "https://localhost:8080/",
          "height": 820
        },
        "outputId": "63716673-18ef-4701-9304-713cfa876e1b"
      },
      "cell_type": "code",
      "source": [
        "x3_train, x3_test, y_train, y_test = train_test_split(x3, y, test_size = 0.25, random_state = 450)\n",
        "\n",
        "print('Train Data Count: {}'.format(x3_train.shape[0]))\n",
        "print('Test Data Count: {}'.format(x3_test.shape[0]))\n",
        "\n",
        "\n",
        "x3_train = sm.add_constant(x3_train)\n",
        "results_wins = sm.OLS(y_train, x3_train).fit()\n",
        "results_wins.summary()"
      ],
      "execution_count": 38,
      "outputs": [
        {
          "output_type": "stream",
          "name": "stdout",
          "text": [
            "Train Data Count: 4251\n",
            "Test Data Count: 1418\n"
          ]
        },
        {
          "output_type": "execute_result",
          "data": {
            "text/plain": [
              "<class 'statsmodels.iolib.summary.Summary'>\n",
              "\"\"\"\n",
              "                               OLS Regression Results                              \n",
              "===================================================================================\n",
              "Dep. Variable:     Customer Lifetime Value   R-squared:                       0.642\n",
              "Model:                                 OLS   Adj. R-squared:                  0.641\n",
              "Method:                      Least Squares   F-statistic:                     507.0\n",
              "Date:                     Sun, 19 Feb 2023   Prob (F-statistic):               0.00\n",
              "Time:                             04:08:01   Log-Likelihood:                -41317.\n",
              "No. Observations:                     4251   AIC:                         8.267e+04\n",
              "Df Residuals:                         4235   BIC:                         8.277e+04\n",
              "Df Model:                               15                                         \n",
              "Covariance Type:                 nonrobust                                         \n",
              "==================================================================================================\n",
              "                                     coef    std err          t      P>|t|      [0.025      0.975]\n",
              "--------------------------------------------------------------------------------------------------\n",
              "const                          -5842.2270    403.026    -14.496      0.000   -6632.369   -5052.085\n",
              "Monthly Premium Auto              95.0841      2.887     32.939      0.000      89.425     100.743\n",
              "Total Claim Amount                 0.2131      0.374      0.570      0.569      -0.520       0.946\n",
              "Income                             0.0012      0.004      0.338      0.735      -0.006       0.008\n",
              "Marital Status_Married            60.3454    180.880      0.334      0.739    -294.274     414.964\n",
              "Marital Status_Single           -204.4771    210.262     -0.972      0.331    -616.701     207.747\n",
              "Number of Policies_2.0          1.206e+04    161.511     74.672      0.000    1.17e+04    1.24e+04\n",
              "Number of Policies_3.0          3495.1438    143.616     24.337      0.000    3213.581    3776.706\n",
              "Education_College               -224.5356    161.191     -1.393      0.164    -540.555      91.484\n",
              "Education_Doctor                 282.0011    327.830      0.860      0.390    -360.717     924.719\n",
              "Education_High School or Below   168.0426    163.487      1.028      0.304    -152.477     488.562\n",
              "Education_Master                 706.4617    244.117      2.894      0.004     227.864    1185.060\n",
              "EmploymentStatus_Employed        850.7032    332.228      2.561      0.010     199.361    1502.045\n",
              "EmploymentStatus_Medical Leave   683.7261    412.233      1.659      0.097    -124.466    1491.919\n",
              "EmploymentStatus_Retired         409.1148    451.541      0.906      0.365    -476.142    1294.371\n",
              "EmploymentStatus_Unemployed      164.7558    334.418      0.493      0.622    -490.878     820.390\n",
              "==============================================================================\n",
              "Omnibus:                     3116.617   Durbin-Watson:                   1.986\n",
              "Prob(Omnibus):                  0.000   Jarque-Bera (JB):            82926.261\n",
              "Skew:                           3.211   Prob(JB):                         0.00\n",
              "Kurtosis:                      23.662   Cond. No.                     5.50e+05\n",
              "==============================================================================\n",
              "\n",
              "Notes:\n",
              "[1] Standard Errors assume that the covariance matrix of the errors is correctly specified.\n",
              "[2] The condition number is large, 5.5e+05. This might indicate that there are\n",
              "strong multicollinearity or other numerical problems.\n",
              "\"\"\""
            ],
            "text/html": [
              "<table class=\"simpletable\">\n",
              "<caption>OLS Regression Results</caption>\n",
              "<tr>\n",
              "  <th>Dep. Variable:</th>    <td>Customer Lifetime Value</td> <th>  R-squared:         </th> <td>   0.642</td> \n",
              "</tr>\n",
              "<tr>\n",
              "  <th>Model:</th>                      <td>OLS</td>           <th>  Adj. R-squared:    </th> <td>   0.641</td> \n",
              "</tr>\n",
              "<tr>\n",
              "  <th>Method:</th>                <td>Least Squares</td>      <th>  F-statistic:       </th> <td>   507.0</td> \n",
              "</tr>\n",
              "<tr>\n",
              "  <th>Date:</th>                <td>Sun, 19 Feb 2023</td>     <th>  Prob (F-statistic):</th>  <td>  0.00</td>  \n",
              "</tr>\n",
              "<tr>\n",
              "  <th>Time:</th>                    <td>04:08:01</td>         <th>  Log-Likelihood:    </th> <td> -41317.</td> \n",
              "</tr>\n",
              "<tr>\n",
              "  <th>No. Observations:</th>         <td>  4251</td>          <th>  AIC:               </th> <td>8.267e+04</td>\n",
              "</tr>\n",
              "<tr>\n",
              "  <th>Df Residuals:</th>             <td>  4235</td>          <th>  BIC:               </th> <td>8.277e+04</td>\n",
              "</tr>\n",
              "<tr>\n",
              "  <th>Df Model:</th>                 <td>    15</td>          <th>                     </th>     <td> </td>    \n",
              "</tr>\n",
              "<tr>\n",
              "  <th>Covariance Type:</th>         <td>nonrobust</td>        <th>                     </th>     <td> </td>    \n",
              "</tr>\n",
              "</table>\n",
              "<table class=\"simpletable\">\n",
              "<tr>\n",
              "                 <td></td>                   <th>coef</th>     <th>std err</th>      <th>t</th>      <th>P>|t|</th>  <th>[0.025</th>    <th>0.975]</th>  \n",
              "</tr>\n",
              "<tr>\n",
              "  <th>const</th>                          <td>-5842.2270</td> <td>  403.026</td> <td>  -14.496</td> <td> 0.000</td> <td>-6632.369</td> <td>-5052.085</td>\n",
              "</tr>\n",
              "<tr>\n",
              "  <th>Monthly Premium Auto</th>           <td>   95.0841</td> <td>    2.887</td> <td>   32.939</td> <td> 0.000</td> <td>   89.425</td> <td>  100.743</td>\n",
              "</tr>\n",
              "<tr>\n",
              "  <th>Total Claim Amount</th>             <td>    0.2131</td> <td>    0.374</td> <td>    0.570</td> <td> 0.569</td> <td>   -0.520</td> <td>    0.946</td>\n",
              "</tr>\n",
              "<tr>\n",
              "  <th>Income</th>                         <td>    0.0012</td> <td>    0.004</td> <td>    0.338</td> <td> 0.735</td> <td>   -0.006</td> <td>    0.008</td>\n",
              "</tr>\n",
              "<tr>\n",
              "  <th>Marital Status_Married</th>         <td>   60.3454</td> <td>  180.880</td> <td>    0.334</td> <td> 0.739</td> <td> -294.274</td> <td>  414.964</td>\n",
              "</tr>\n",
              "<tr>\n",
              "  <th>Marital Status_Single</th>          <td> -204.4771</td> <td>  210.262</td> <td>   -0.972</td> <td> 0.331</td> <td> -616.701</td> <td>  207.747</td>\n",
              "</tr>\n",
              "<tr>\n",
              "  <th>Number of Policies_2.0</th>         <td> 1.206e+04</td> <td>  161.511</td> <td>   74.672</td> <td> 0.000</td> <td> 1.17e+04</td> <td> 1.24e+04</td>\n",
              "</tr>\n",
              "<tr>\n",
              "  <th>Number of Policies_3.0</th>         <td> 3495.1438</td> <td>  143.616</td> <td>   24.337</td> <td> 0.000</td> <td> 3213.581</td> <td> 3776.706</td>\n",
              "</tr>\n",
              "<tr>\n",
              "  <th>Education_College</th>              <td> -224.5356</td> <td>  161.191</td> <td>   -1.393</td> <td> 0.164</td> <td> -540.555</td> <td>   91.484</td>\n",
              "</tr>\n",
              "<tr>\n",
              "  <th>Education_Doctor</th>               <td>  282.0011</td> <td>  327.830</td> <td>    0.860</td> <td> 0.390</td> <td> -360.717</td> <td>  924.719</td>\n",
              "</tr>\n",
              "<tr>\n",
              "  <th>Education_High School or Below</th> <td>  168.0426</td> <td>  163.487</td> <td>    1.028</td> <td> 0.304</td> <td> -152.477</td> <td>  488.562</td>\n",
              "</tr>\n",
              "<tr>\n",
              "  <th>Education_Master</th>               <td>  706.4617</td> <td>  244.117</td> <td>    2.894</td> <td> 0.004</td> <td>  227.864</td> <td> 1185.060</td>\n",
              "</tr>\n",
              "<tr>\n",
              "  <th>EmploymentStatus_Employed</th>      <td>  850.7032</td> <td>  332.228</td> <td>    2.561</td> <td> 0.010</td> <td>  199.361</td> <td> 1502.045</td>\n",
              "</tr>\n",
              "<tr>\n",
              "  <th>EmploymentStatus_Medical Leave</th> <td>  683.7261</td> <td>  412.233</td> <td>    1.659</td> <td> 0.097</td> <td> -124.466</td> <td> 1491.919</td>\n",
              "</tr>\n",
              "<tr>\n",
              "  <th>EmploymentStatus_Retired</th>       <td>  409.1148</td> <td>  451.541</td> <td>    0.906</td> <td> 0.365</td> <td> -476.142</td> <td> 1294.371</td>\n",
              "</tr>\n",
              "<tr>\n",
              "  <th>EmploymentStatus_Unemployed</th>    <td>  164.7558</td> <td>  334.418</td> <td>    0.493</td> <td> 0.622</td> <td> -490.878</td> <td>  820.390</td>\n",
              "</tr>\n",
              "</table>\n",
              "<table class=\"simpletable\">\n",
              "<tr>\n",
              "  <th>Omnibus:</th>       <td>3116.617</td> <th>  Durbin-Watson:     </th> <td>   1.986</td> \n",
              "</tr>\n",
              "<tr>\n",
              "  <th>Prob(Omnibus):</th>  <td> 0.000</td>  <th>  Jarque-Bera (JB):  </th> <td>82926.261</td>\n",
              "</tr>\n",
              "<tr>\n",
              "  <th>Skew:</th>           <td> 3.211</td>  <th>  Prob(JB):          </th> <td>    0.00</td> \n",
              "</tr>\n",
              "<tr>\n",
              "  <th>Kurtosis:</th>       <td>23.662</td>  <th>  Cond. No.          </th> <td>5.50e+05</td> \n",
              "</tr>\n",
              "</table><br/><br/>Notes:<br/>[1] Standard Errors assume that the covariance matrix of the errors is correctly specified.<br/>[2] The condition number is large, 5.5e+05. This might indicate that there are<br/>strong multicollinearity or other numerical problems."
            ]
          },
          "metadata": {},
          "execution_count": 38
        }
      ]
    },
    {
      "cell_type": "markdown",
      "source": [
        "**Rsq = 0.64**"
      ],
      "metadata": {
        "id": "SYskmvXELCUu"
      }
    },
    {
      "metadata": {
        "trusted": false,
        "id": "rj2qIOL3t7GQ",
        "colab": {
          "base_uri": "https://localhost:8080/",
          "height": 301
        },
        "outputId": "c467dc35-0267-4aaf-8eec-1bc8f3a02f5e"
      },
      "cell_type": "code",
      "source": [
        "# Model graph to see predictions\n",
        "\n",
        "\n",
        "x3_test = sm.add_constant(x3_test)\n",
        "\n",
        "y_preds = results_wins.predict(x3_test)\n",
        "sns.set(color_codes=True)\n",
        "plt.scatter(y_test, y_preds)\n",
        "plt.plot(y_test, y_test, color=\"red\")\n",
        "plt.xlabel(\"Actual ltv\")\n",
        "plt.ylabel(\"Estimated ltv\", )\n",
        "plt.title(\"Actual vs Estimated Customer LTV-5% Winsorize\")\n",
        "plt.show()"
      ],
      "execution_count": 39,
      "outputs": [
        {
          "output_type": "display_data",
          "data": {
            "text/plain": [
              "<Figure size 432x288 with 1 Axes>"
            ],
            "image/png": "[encoded data removed]"
          },
          "metadata": {}
        }
      ]
    },
    {
      "metadata": {
        "trusted": false,
        "id": "VUHdYdKht7GQ",
        "colab": {
          "base_uri": "https://localhost:8080/"
        },
        "outputId": "415d6199-c0d0-4c99-e3e8-4555b6b66792"
      },
      "cell_type": "code",
      "source": [
        "print(\"Mean Absolute Error (MAE)        : {}\".format(mean_absolute_error(y_test, y_preds)))\n",
        "print(\"Mean Sq. Error (MSE)          : {}\".format(mse(y_test, y_preds)))\n",
        "print(\"Root Mean Sq. Error (RMSE)     : {}\".format(rmse(y_test, y_preds)))\n",
        "print(\"Mean Abs. Perc. Error (MAPE) : {}\".format(np.mean(np.abs((y_test - y_preds) / y_test)) * 100))"
      ],
      "execution_count": 40,
      "outputs": [
        {
          "output_type": "stream",
          "name": "stdout",
          "text": [
            "Mean Absolute Error (MAE)        : 2323.2743334443708\n",
            "Mean Sq. Error (MSE)          : 22253073.883624654\n",
            "Root Mean Sq. Error (RMSE)     : 4717.316385788074\n",
            "Mean Abs. Perc. Error (MAPE) : 26.951951924907707\n"
          ]
        }
      ]
    },
    {
      "metadata": {
        "id": "5r9j0sbbt7GR"
      },
      "cell_type": "markdown",
      "source": [
        "## Model 4"
      ]
    },
    {
      "cell_type": "markdown",
      "source": [
        "### Data  log without outlier"
      ],
      "metadata": {
        "id": "LaHuKPG9Ixda"
      }
    },
    {
      "metadata": {
        "trusted": false,
        "id": "joo4wzy5t7GR"
      },
      "cell_type": "code",
      "source": [
        "#duplicate the original data and take log of the data without outlier\n",
        "\n",
        "df5 = df4.copy()\n",
        "\n",
        "\n",
        "df5['Monthly Premium Auto'] = np.log(df5['Monthly Premium Auto'])\n",
        "df5['Total Claim Amount'] = np.log(df5['Total Claim Amount'])\n",
        "\n",
        "\n",
        "y = np.log(df5['Customer Lifetime Value'])\n",
        "x7 =df5.drop('Customer Lifetime Value',axis=1)\n"
      ],
      "execution_count": 41,
      "outputs": []
    },
    {
      "metadata": {
        "trusted": false,
        "id": "K5IvDU1gt7GS",
        "colab": {
          "base_uri": "https://localhost:8080/",
          "height": 820
        },
        "outputId": "39b16ba1-bb4b-4645-85d0-44c516663aa1"
      },
      "cell_type": "code",
      "source": [
        "x7_train, x7_test, y_train, y_test = train_test_split(x7, y, test_size = 0.25, random_state = 450)\n",
        "\n",
        "print('Train Data Count: {}'.format(x7_train.shape[0]))\n",
        "print('Test Data Count: {}'.format(x7_test.shape[0]))\n",
        "\n",
        "\n",
        "x7_train = sm.add_constant(x7_train)\n",
        "results_logwins = sm.OLS(y_train, x7_train).fit()\n",
        "results_logwins.summary()"
      ],
      "execution_count": 42,
      "outputs": [
        {
          "output_type": "stream",
          "name": "stdout",
          "text": [
            "Train Data Count: 4251\n",
            "Test Data Count: 1418\n"
          ]
        },
        {
          "output_type": "execute_result",
          "data": {
            "text/plain": [
              "<class 'statsmodels.iolib.summary.Summary'>\n",
              "\"\"\"\n",
              "                               OLS Regression Results                              \n",
              "===================================================================================\n",
              "Dep. Variable:     Customer Lifetime Value   R-squared:                       0.898\n",
              "Model:                                 OLS   Adj. R-squared:                  0.897\n",
              "Method:                      Least Squares   F-statistic:                     2477.\n",
              "Date:                     Sun, 19 Feb 2023   Prob (F-statistic):               0.00\n",
              "Time:                             04:08:02   Log-Likelihood:                 610.77\n",
              "No. Observations:                     4251   AIC:                            -1190.\n",
              "Df Residuals:                         4235   BIC:                            -1088.\n",
              "Df Model:                               15                                         \n",
              "Covariance Type:                 nonrobust                                         \n",
              "==================================================================================================\n",
              "                                     coef    std err          t      P>|t|      [0.025      0.975]\n",
              "--------------------------------------------------------------------------------------------------\n",
              "const                              3.3154      0.055     60.649      0.000       3.208       3.423\n",
              "Monthly Premium Auto               1.0598      0.012     84.912      0.000       1.035       1.084\n",
              "Total Claim Amount                 0.0017      0.004      0.397      0.692      -0.007       0.010\n",
              "Income                          3.122e-07   1.86e-07      1.681      0.093    -5.2e-08    6.76e-07\n",
              "Marital Status_Married             0.0141      0.009      1.496      0.135      -0.004       0.033\n",
              "Marital Status_Single             -0.0199      0.011     -1.829      0.067      -0.041       0.001\n",
              "Number of Policies_2.0             1.4068      0.008    167.345      0.000       1.390       1.423\n",
              "Number of Policies_3.0             0.6908      0.007     92.382      0.000       0.676       0.705\n",
              "Education_College                 -0.0113      0.008     -1.344      0.179      -0.028       0.005\n",
              "Education_Doctor                   0.0267      0.017      1.565      0.118      -0.007       0.060\n",
              "Education_High School or Below     0.0167      0.008      1.966      0.049    4.32e-05       0.033\n",
              "Education_Master                   0.0479      0.013      3.774      0.000       0.023       0.073\n",
              "EmploymentStatus_Employed          0.0651      0.017      3.765      0.000       0.031       0.099\n",
              "EmploymentStatus_Medical Leave     0.0349      0.021      1.625      0.104      -0.007       0.077\n",
              "EmploymentStatus_Retired           0.0219      0.024      0.930      0.352      -0.024       0.068\n",
              "EmploymentStatus_Unemployed       -0.0111      0.017     -0.639      0.523      -0.045       0.023\n",
              "==============================================================================\n",
              "Omnibus:                     1272.754   Durbin-Watson:                   2.012\n",
              "Prob(Omnibus):                  0.000   Jarque-Bera (JB):             4689.833\n",
              "Skew:                           1.460   Prob(JB):                         0.00\n",
              "Kurtosis:                       7.237   Cond. No.                     8.48e+05\n",
              "==============================================================================\n",
              "\n",
              "Notes:\n",
              "[1] Standard Errors assume that the covariance matrix of the errors is correctly specified.\n",
              "[2] The condition number is large, 8.48e+05. This might indicate that there are\n",
              "strong multicollinearity or other numerical problems.\n",
              "\"\"\""
            ],
            "text/html": [
              "<table class=\"simpletable\">\n",
              "<caption>OLS Regression Results</caption>\n",
              "<tr>\n",
              "  <th>Dep. Variable:</th>    <td>Customer Lifetime Value</td> <th>  R-squared:         </th> <td>   0.898</td>\n",
              "</tr>\n",
              "<tr>\n",
              "  <th>Model:</th>                      <td>OLS</td>           <th>  Adj. R-squared:    </th> <td>   0.897</td>\n",
              "</tr>\n",
              "<tr>\n",
              "  <th>Method:</th>                <td>Least Squares</td>      <th>  F-statistic:       </th> <td>   2477.</td>\n",
              "</tr>\n",
              "<tr>\n",
              "  <th>Date:</th>                <td>Sun, 19 Feb 2023</td>     <th>  Prob (F-statistic):</th>  <td>  0.00</td> \n",
              "</tr>\n",
              "<tr>\n",
              "  <th>Time:</th>                    <td>04:08:02</td>         <th>  Log-Likelihood:    </th> <td>  610.77</td>\n",
              "</tr>\n",
              "<tr>\n",
              "  <th>No. Observations:</th>         <td>  4251</td>          <th>  AIC:               </th> <td>  -1190.</td>\n",
              "</tr>\n",
              "<tr>\n",
              "  <th>Df Residuals:</th>             <td>  4235</td>          <th>  BIC:               </th> <td>  -1088.</td>\n",
              "</tr>\n",
              "<tr>\n",
              "  <th>Df Model:</th>                 <td>    15</td>          <th>                     </th>     <td> </td>   \n",
              "</tr>\n",
              "<tr>\n",
              "  <th>Covariance Type:</th>         <td>nonrobust</td>        <th>                     </th>     <td> </td>   \n",
              "</tr>\n",
              "</table>\n",
              "<table class=\"simpletable\">\n",
              "<tr>\n",
              "                 <td></td>                   <th>coef</th>     <th>std err</th>      <th>t</th>      <th>P>|t|</th>  <th>[0.025</th>    <th>0.975]</th>  \n",
              "</tr>\n",
              "<tr>\n",
              "  <th>const</th>                          <td>    3.3154</td> <td>    0.055</td> <td>   60.649</td> <td> 0.000</td> <td>    3.208</td> <td>    3.423</td>\n",
              "</tr>\n",
              "<tr>\n",
              "  <th>Monthly Premium Auto</th>           <td>    1.0598</td> <td>    0.012</td> <td>   84.912</td> <td> 0.000</td> <td>    1.035</td> <td>    1.084</td>\n",
              "</tr>\n",
              "<tr>\n",
              "  <th>Total Claim Amount</th>             <td>    0.0017</td> <td>    0.004</td> <td>    0.397</td> <td> 0.692</td> <td>   -0.007</td> <td>    0.010</td>\n",
              "</tr>\n",
              "<tr>\n",
              "  <th>Income</th>                         <td> 3.122e-07</td> <td> 1.86e-07</td> <td>    1.681</td> <td> 0.093</td> <td> -5.2e-08</td> <td> 6.76e-07</td>\n",
              "</tr>\n",
              "<tr>\n",
              "  <th>Marital Status_Married</th>         <td>    0.0141</td> <td>    0.009</td> <td>    1.496</td> <td> 0.135</td> <td>   -0.004</td> <td>    0.033</td>\n",
              "</tr>\n",
              "<tr>\n",
              "  <th>Marital Status_Single</th>          <td>   -0.0199</td> <td>    0.011</td> <td>   -1.829</td> <td> 0.067</td> <td>   -0.041</td> <td>    0.001</td>\n",
              "</tr>\n",
              "<tr>\n",
              "  <th>Number of Policies_2.0</th>         <td>    1.4068</td> <td>    0.008</td> <td>  167.345</td> <td> 0.000</td> <td>    1.390</td> <td>    1.423</td>\n",
              "</tr>\n",
              "<tr>\n",
              "  <th>Number of Policies_3.0</th>         <td>    0.6908</td> <td>    0.007</td> <td>   92.382</td> <td> 0.000</td> <td>    0.676</td> <td>    0.705</td>\n",
              "</tr>\n",
              "<tr>\n",
              "  <th>Education_College</th>              <td>   -0.0113</td> <td>    0.008</td> <td>   -1.344</td> <td> 0.179</td> <td>   -0.028</td> <td>    0.005</td>\n",
              "</tr>\n",
              "<tr>\n",
              "  <th>Education_Doctor</th>               <td>    0.0267</td> <td>    0.017</td> <td>    1.565</td> <td> 0.118</td> <td>   -0.007</td> <td>    0.060</td>\n",
              "</tr>\n",
              "<tr>\n",
              "  <th>Education_High School or Below</th> <td>    0.0167</td> <td>    0.008</td> <td>    1.966</td> <td> 0.049</td> <td> 4.32e-05</td> <td>    0.033</td>\n",
              "</tr>\n",
              "<tr>\n",
              "  <th>Education_Master</th>               <td>    0.0479</td> <td>    0.013</td> <td>    3.774</td> <td> 0.000</td> <td>    0.023</td> <td>    0.073</td>\n",
              "</tr>\n",
              "<tr>\n",
              "  <th>EmploymentStatus_Employed</th>      <td>    0.0651</td> <td>    0.017</td> <td>    3.765</td> <td> 0.000</td> <td>    0.031</td> <td>    0.099</td>\n",
              "</tr>\n",
              "<tr>\n",
              "  <th>EmploymentStatus_Medical Leave</th> <td>    0.0349</td> <td>    0.021</td> <td>    1.625</td> <td> 0.104</td> <td>   -0.007</td> <td>    0.077</td>\n",
              "</tr>\n",
              "<tr>\n",
              "  <th>EmploymentStatus_Retired</th>       <td>    0.0219</td> <td>    0.024</td> <td>    0.930</td> <td> 0.352</td> <td>   -0.024</td> <td>    0.068</td>\n",
              "</tr>\n",
              "<tr>\n",
              "  <th>EmploymentStatus_Unemployed</th>    <td>   -0.0111</td> <td>    0.017</td> <td>   -0.639</td> <td> 0.523</td> <td>   -0.045</td> <td>    0.023</td>\n",
              "</tr>\n",
              "</table>\n",
              "<table class=\"simpletable\">\n",
              "<tr>\n",
              "  <th>Omnibus:</th>       <td>1272.754</td> <th>  Durbin-Watson:     </th> <td>   2.012</td>\n",
              "</tr>\n",
              "<tr>\n",
              "  <th>Prob(Omnibus):</th>  <td> 0.000</td>  <th>  Jarque-Bera (JB):  </th> <td>4689.833</td>\n",
              "</tr>\n",
              "<tr>\n",
              "  <th>Skew:</th>           <td> 1.460</td>  <th>  Prob(JB):          </th> <td>    0.00</td>\n",
              "</tr>\n",
              "<tr>\n",
              "  <th>Kurtosis:</th>       <td> 7.237</td>  <th>  Cond. No.          </th> <td>8.48e+05</td>\n",
              "</tr>\n",
              "</table><br/><br/>Notes:<br/>[1] Standard Errors assume that the covariance matrix of the errors is correctly specified.<br/>[2] The condition number is large, 8.48e+05. This might indicate that there are<br/>strong multicollinearity or other numerical problems."
            ]
          },
          "metadata": {},
          "execution_count": 42
        }
      ]
    },
    {
      "cell_type": "markdown",
      "source": [
        "**Rsq = 0.89**"
      ],
      "metadata": {
        "id": "qJrDq0cQLqR3"
      }
    },
    {
      "metadata": {
        "trusted": false,
        "id": "aLrubFBpt7GS",
        "colab": {
          "base_uri": "https://localhost:8080/",
          "height": 301
        },
        "outputId": "d8925421-0120-4796-a529-a75569dfd001"
      },
      "cell_type": "code",
      "source": [
        "# Model graph to see predictions\n",
        "\n",
        "\n",
        "x7_test = sm.add_constant(x7_test)\n",
        "\n",
        "y_preds = results_logwins.predict(x7_test)\n",
        "sns.set(color_codes=True)\n",
        "plt.scatter(y_test, y_preds)\n",
        "plt.plot(y_test, y_test, color=\"red\")\n",
        "plt.xlabel(\"Actual ltv\")\n",
        "plt.ylabel(\"Estimated ltv\", )\n",
        "plt.title(\"Actual vs Estimated Customer LTV- Both Log Transformation & 5% Winsorize\")\n",
        "plt.show()"
      ],
      "execution_count": 43,
      "outputs": [
        {
          "output_type": "display_data",
          "data": {
            "text/plain": [
              "<Figure size 432x288 with 1 Axes>"
            ],
            "image/png": "[encoded data removed]"
          },
          "metadata": {}
        }
      ]
    },
    {
      "metadata": {
        "trusted": false,
        "id": "0bweyn0Bt7GT",
        "colab": {
          "base_uri": "https://localhost:8080/"
        },
        "outputId": "4b1f578a-6d84-4540-8ef4-ad7b2e76c740"
      },
      "cell_type": "code",
      "source": [
        "print(\"Mean Absolute Error (MAE)        : {}\".format(mean_absolute_error(y_test, y_preds)))\n",
        "print(\"Mean Sq. Error (MSE)          : {}\".format(mse(y_test, y_preds)))\n",
        "print(\"Root Mean Sq. Error (RMSE)     : {}\".format(rmse(y_test, y_preds)))\n",
        "print(\"Mean Abs. Perc. Error (MAPE) : {}\".format(np.mean(np.abs((y_test - y_preds) / y_test)) * 100))"
      ],
      "execution_count": 44,
      "outputs": [
        {
          "output_type": "stream",
          "name": "stdout",
          "text": [
            "Mean Absolute Error (MAE)        : 0.11669527499239643\n",
            "Mean Sq. Error (MSE)          : 0.04665214314105823\n",
            "Root Mean Sq. Error (RMSE)     : 0.21599107190126685\n",
            "Mean Abs. Perc. Error (MAPE) : 1.2366926288238373\n"
          ]
        }
      ]
    },
    {
      "metadata": {
        "id": "809VOXWst7GU"
      },
      "cell_type": "markdown",
      "source": [
        "## Model 5"
      ]
    },
    {
      "cell_type": "markdown",
      "source": [
        "### Data log with outlier dengan Polynomial Features"
      ],
      "metadata": {
        "id": "64WkK5ttLcOO"
      }
    },
    {
      "metadata": {
        "trusted": false,
        "id": "mBrF0wedt7GU"
      },
      "cell_type": "code",
      "source": [
        "#the best model is the one with log transformation and outliers included\n",
        "\n",
        "#Let's use polynomial features to see if we can do better\n",
        "\n",
        "\n",
        "from sklearn.preprocessing import PolynomialFeatures\n",
        "\n",
        "\n",
        "y = np.log(df3['Customer Lifetime Value'])\n",
        "x5 =df3.drop('Customer Lifetime Value',axis=1)\n",
        "\n",
        "\n",
        "pol = PolynomialFeatures()\n",
        "\n",
        "\n",
        "array = pol.fit_transform(x5)\n",
        "\n",
        "df_pol = pd.DataFrame(array)\n",
        "df_pol.columns = pol.get_feature_names(x5.columns)\n"
      ],
      "execution_count": 45,
      "outputs": []
    },
    {
      "metadata": {
        "trusted": false,
        "id": "bbOJFU7mt7GV",
        "colab": {
          "base_uri": "https://localhost:8080/",
          "height": 1000
        },
        "outputId": "42d34c02-732d-46b4-f446-8988c5c0a023"
      },
      "cell_type": "code",
      "source": [
        "df_pol_train, df_pol_test, y_train, y_test = train_test_split(df_pol, y, test_size = 0.25, random_state = 450)\n",
        "\n",
        "print('Train Data Count: {}'.format(df_pol_train.shape[0]))\n",
        "print('Test Data Count: {}'.format(df_pol_test.shape[0]))\n",
        "\n",
        "df_pol_train = sm.add_constant(df_pol_train)\n",
        "results_pol = sm.OLS(y_train, df_pol_train).fit()\n",
        "results_pol.summary()"
      ],
      "execution_count": 46,
      "outputs": [
        {
          "output_type": "stream",
          "name": "stdout",
          "text": [
            "Train Data Count: 4251\n",
            "Test Data Count: 1418\n"
          ]
        },
        {
          "output_type": "execute_result",
          "data": {
            "text/plain": [
              "<class 'statsmodels.iolib.summary.Summary'>\n",
              "\"\"\"\n",
              "                               OLS Regression Results                              \n",
              "===================================================================================\n",
              "Dep. Variable:     Customer Lifetime Value   R-squared:                       0.907\n",
              "Model:                                 OLS   Adj. R-squared:                  0.905\n",
              "Method:                      Least Squares   F-statistic:                     378.1\n",
              "Date:                     Sun, 19 Feb 2023   Prob (F-statistic):               0.00\n",
              "Time:                             04:08:02   Log-Likelihood:                 816.47\n",
              "No. Observations:                     4251   AIC:                            -1417.\n",
              "Df Residuals:                         4143   BIC:                            -730.6\n",
              "Df Model:                              107                                         \n",
              "Covariance Type:                 nonrobust                                         \n",
              "=================================================================================================================================\n",
              "                                                                    coef    std err          t      P>|t|      [0.025      0.975]\n",
              "---------------------------------------------------------------------------------------------------------------------------------\n",
              "1                                                                 3.0279      0.612      4.951      0.000       1.829       4.227\n",
              "Monthly Premium Auto                                              1.2162      0.252      4.826      0.000       0.722       1.710\n",
              "Total Claim Amount                                               -0.0322      0.072     -0.444      0.657      -0.174       0.110\n",
              "Income                                                         5.759e-06   4.14e-06      1.391      0.164   -2.36e-06    1.39e-05\n",
              "Marital Status_Married                                            0.0698      0.072      0.974      0.330      -0.071       0.210\n",
              "Marital Status_Single                                             0.1182      0.086      1.367      0.172      -0.051       0.288\n",
              "Number of Policies_2.0                                            0.8158      0.065     12.577      0.000       0.689       0.943\n",
              "Number of Policies_3.0                                            0.3382      0.058      5.876      0.000       0.225       0.451\n",
              "Education_College                                                -0.0613      0.066     -0.927      0.354      -0.191       0.068\n",
              "Education_Doctor                                                  0.0711      0.127      0.558      0.577      -0.179       0.321\n",
              "Education_High School or Below                                   -0.0336      0.066     -0.506      0.613      -0.164       0.096\n",
              "Education_Master                                                  0.0231      0.095      0.244      0.808      -0.163       0.209\n",
              "EmploymentStatus_Employed                                        -0.0083      0.137     -0.061      0.951      -0.277       0.260\n",
              "EmploymentStatus_Medical Leave                                    0.4569      0.175      2.618      0.009       0.115       0.799\n",
              "EmploymentStatus_Retired                                          0.3049      0.222      1.371      0.170      -0.131       0.741\n",
              "EmploymentStatus_Unemployed                                       0.1345      0.139      0.970      0.332      -0.137       0.406\n",
              "Monthly Premium Auto^2                                           -0.0210      0.031     -0.673      0.501      -0.082       0.040\n",
              "Monthly Premium Auto Total Claim Amount                           0.0082      0.016      0.508      0.612      -0.024       0.040\n",
              "Monthly Premium Auto Income                                   -1.151e-06   6.73e-07     -1.711      0.087   -2.47e-06    1.68e-07\n",
              "Monthly Premium Auto Marital Status_Married                       0.0280      0.034      0.835      0.404      -0.038       0.094\n",
              "Monthly Premium Auto Marital Status_Single                        0.0220      0.040      0.543      0.587      -0.057       0.101\n",
              "Monthly Premium Auto Number of Policies_2.0                      -0.0553      0.030     -1.827      0.068      -0.115       0.004\n",
              "Monthly Premium Auto Number of Policies_3.0                       0.0031      0.026      0.117      0.907      -0.049       0.055\n",
              "Monthly Premium Auto Education_College                            0.0177      0.030      0.599      0.549      -0.040       0.076\n",
              "Monthly Premium Auto Education_Doctor                             0.0097      0.061      0.160      0.873      -0.109       0.128\n",
              "Monthly Premium Auto Education_High School or Below               0.0203      0.030      0.669      0.503      -0.039       0.080\n",
              "Monthly Premium Auto Education_Master                             0.0171      0.045      0.380      0.704      -0.071       0.105\n",
              "Monthly Premium Auto EmploymentStatus_Employed                   -0.0145      0.066     -0.221      0.825      -0.143       0.114\n",
              "Monthly Premium Auto EmploymentStatus_Medical Leave              -0.2343      0.083     -2.811      0.005      -0.398      -0.071\n",
              "Monthly Premium Auto EmploymentStatus_Retired                    -0.2040      0.129     -1.579      0.114      -0.457       0.049\n",
              "Monthly Premium Auto EmploymentStatus_Unemployed                 -0.1728      0.067     -2.570      0.010      -0.305      -0.041\n",
              "Total Claim Amount^2                                             -0.0018      0.003     -0.650      0.516      -0.007       0.004\n",
              "Total Claim Amount Income                                      5.668e-08   2.31e-07      0.246      0.806   -3.96e-07    5.09e-07\n",
              "Total Claim Amount Marital Status_Married                        -0.0269      0.013     -2.131      0.033      -0.052      -0.002\n",
              "Total Claim Amount Marital Status_Single                         -0.0482      0.016     -3.018      0.003      -0.079      -0.017\n",
              "Total Claim Amount Number of Policies_2.0                        -0.0129      0.012     -1.118      0.264      -0.036       0.010\n",
              "Total Claim Amount Number of Policies_3.0                         0.0003      0.010      0.030      0.976      -0.019       0.020\n",
              "Total Claim Amount Education_College                              0.0099      0.011      0.890      0.374      -0.012       0.032\n",
              "Total Claim Amount Education_Doctor                              -0.0115      0.020     -0.584      0.559      -0.050       0.027\n",
              "Total Claim Amount Education_High School or Below                 0.0070      0.012      0.598      0.550      -0.016       0.030\n",
              "Total Claim Amount Education_Master                              -0.0170      0.016     -1.089      0.276      -0.047       0.014\n",
              "Total Claim Amount EmploymentStatus_Employed                      0.0283      0.030      0.936      0.349      -0.031       0.088\n",
              "Total Claim Amount EmploymentStatus_Medical Leave                 0.0419      0.038      1.113      0.266      -0.032       0.116\n",
              "Total Claim Amount EmploymentStatus_Retired                       0.0659      0.104      0.636      0.525      -0.137       0.269\n",
              "Total Claim Amount EmploymentStatus_Unemployed                    0.0873      0.032      2.753      0.006       0.025       0.149\n",
              "Income^2                                                       1.155e-11   8.77e-12      1.316      0.188   -5.65e-12    2.88e-11\n",
              "Income Marital Status_Married                                 -9.642e-07   5.32e-07     -1.811      0.070   -2.01e-06    7.93e-08\n",
              "Income Marital Status_Single                                  -5.795e-07   6.63e-07     -0.874      0.382   -1.88e-06     7.2e-07\n",
              "Income Number of Policies_2.0                                  5.502e-08   4.78e-07      0.115      0.908   -8.83e-07    9.93e-07\n",
              "Income Number of Policies_3.0                                 -7.182e-09   4.16e-07     -0.017      0.986   -8.23e-07    8.08e-07\n",
              "Income Education_College                                      -3.369e-07   4.75e-07     -0.709      0.479   -1.27e-06    5.95e-07\n",
              "Income Education_Doctor                                        -2.33e-08   9.57e-07     -0.024      0.981    -1.9e-06    1.85e-06\n",
              "Income Education_High School or Below                         -1.816e-07   4.85e-07     -0.374      0.708   -1.13e-06     7.7e-07\n",
              "Income Education_Master                                       -1.147e-07   6.42e-07     -0.179      0.858   -1.37e-06    1.14e-06\n",
              "Income EmploymentStatus_Employed                              -1.037e-06    3.1e-06     -0.334      0.738   -7.12e-06    5.05e-06\n",
              "Income EmploymentStatus_Medical Leave                          1.131e-06    4.1e-06      0.276      0.783   -6.91e-06    9.17e-06\n",
              "Income EmploymentStatus_Retired                               -4.451e-06   4.53e-06     -0.981      0.326   -1.33e-05    4.44e-06\n",
              "Income EmploymentStatus_Unemployed                             2.274e-16   2.13e-16      1.068      0.286    -1.9e-16    6.45e-16\n",
              "Marital Status_Married^2                                          0.0698      0.072      0.974      0.330      -0.071       0.210\n",
              "Marital Status_Married Marital Status_Single                   3.858e-17   3.66e-16      0.105      0.916    -6.8e-16    7.57e-16\n",
              "Marital Status_Married Number of Policies_2.0                    -0.0205      0.023     -0.882      0.378      -0.066       0.025\n",
              "Marital Status_Married Number of Policies_3.0                     0.0025      0.022      0.113      0.910      -0.040       0.045\n",
              "Marital Status_Married Education_College                         -0.0451      0.024     -1.867      0.062      -0.092       0.002\n",
              "Marital Status_Married Education_Doctor                          -0.0013      0.046     -0.029      0.977      -0.091       0.089\n",
              "Marital Status_Married Education_High School or Below            -0.0348      0.025     -1.389      0.165      -0.084       0.014\n",
              "Marital Status_Married Education_Master                          -0.0178      0.034     -0.528      0.598      -0.084       0.048\n",
              "Marital Status_Married EmploymentStatus_Employed                 -0.0352      0.044     -0.801      0.423      -0.121       0.051\n",
              "Marital Status_Married EmploymentStatus_Medical Leave            -0.1065      0.055     -1.926      0.054      -0.215       0.002\n",
              "Marital Status_Married EmploymentStatus_Retired                   0.1129      0.058      1.951      0.051      -0.001       0.226\n",
              "Marital Status_Married EmploymentStatus_Unemployed               -0.0486      0.046     -1.055      0.292      -0.139       0.042\n",
              "Marital Status_Single^2                                           0.1182      0.086      1.367      0.172      -0.051       0.288\n",
              "Marital Status_Single Number of Policies_2.0                     -0.0032      0.027     -0.119      0.905      -0.056       0.050\n",
              "Marital Status_Single Number of Policies_3.0                     -0.0045      0.025     -0.176      0.860      -0.054       0.045\n",
              "Marital Status_Single Education_College                          -0.0153      0.028     -0.556      0.579      -0.069       0.039\n",
              "Marital Status_Single Education_Doctor                            0.0352      0.063      0.560      0.576      -0.088       0.159\n",
              "Marital Status_Single Education_High School or Below             -0.0278      0.029     -0.972      0.331      -0.084       0.028\n",
              "Marital Status_Single Education_Master                           -0.0109      0.043     -0.255      0.799      -0.094       0.073\n",
              "Marital Status_Single EmploymentStatus_Employed                  -0.0323      0.063     -0.512      0.609      -0.156       0.091\n",
              "Marital Status_Single EmploymentStatus_Medical Leave             -0.1051      0.076     -1.383      0.167      -0.254       0.044\n",
              "Marital Status_Single EmploymentStatus_Retired                    0.0707      0.073      0.963      0.336      -0.073       0.215\n",
              "Marital Status_Single EmploymentStatus_Unemployed                -0.0851      0.062     -1.369      0.171      -0.207       0.037\n",
              "Number of Policies_2.0^2                                          0.8158      0.065     12.577      0.000       0.689       0.943\n",
              "Number of Policies_2.0 Number of Policies_3.0                  -7.41e-17   1.25e-16     -0.594      0.553   -3.19e-16     1.7e-16\n",
              "Number of Policies_2.0 Education_College                         -0.0303      0.021     -1.438      0.151      -0.072       0.011\n",
              "Number of Policies_2.0 Education_Doctor                           0.0186      0.046      0.402      0.687      -0.072       0.109\n",
              "Number of Policies_2.0 Education_High School or Below             0.0311      0.022      1.429      0.153      -0.012       0.074\n",
              "Number of Policies_2.0 Education_Master                           0.0996      0.033      2.988      0.003       0.034       0.165\n",
              "Number of Policies_2.0 EmploymentStatus_Employed                  0.0828      0.043      1.919      0.055      -0.002       0.167\n",
              "Number of Policies_2.0 EmploymentStatus_Medical Leave             0.1687      0.055      3.070      0.002       0.061       0.276\n",
              "Number of Policies_2.0 EmploymentStatus_Retired                   0.1281      0.059      2.167      0.030       0.012       0.244\n",
              "Number of Policies_2.0 EmploymentStatus_Unemployed                0.1472      0.044      3.381      0.001       0.062       0.233\n",
              "Number of Policies_3.0^2                                          0.3382      0.058      5.876      0.000       0.225       0.451\n",
              "Number of Policies_3.0 Education_College                          0.0082      0.019      0.431      0.667      -0.029       0.046\n",
              "Number of Policies_3.0 Education_Doctor                          -0.0114      0.038     -0.296      0.767      -0.087       0.064\n",
              "Number of Policies_3.0 Education_High School or Below             0.0006      0.019      0.033      0.973      -0.037       0.038\n",
              "Number of Policies_3.0 Education_Master                           0.0060      0.029      0.203      0.839      -0.052       0.063\n",
              "Number of Policies_3.0 EmploymentStatus_Employed                 -0.0026      0.040     -0.066      0.948      -0.081       0.076\n",
              "Number of Policies_3.0 EmploymentStatus_Medical Leave             0.0067      0.050      0.134      0.893      -0.091       0.104\n",
              "Number of Policies_3.0 EmploymentStatus_Retired                  -0.0426      0.057     -0.744      0.457      -0.155       0.070\n",
              "Number of Policies_3.0 EmploymentStatus_Unemployed                0.0057      0.040      0.142      0.887      -0.073       0.084\n",
              "Education_College^2                                              -0.0613      0.066     -0.927      0.354      -0.191       0.068\n",
              "Education_College Education_Doctor                             1.757e-16   4.87e-17      3.610      0.000    8.03e-17    2.71e-16\n",
              "Education_College Education_High School or Below               4.477e-17   4.24e-17      1.056      0.291   -3.83e-17    1.28e-16\n",
              "Education_College Education_Master                              8.56e-17   3.67e-17      2.331      0.020    1.36e-17    1.58e-16\n",
              "Education_College EmploymentStatus_Employed                       0.0408      0.046      0.881      0.378      -0.050       0.132\n",
              "Education_College EmploymentStatus_Medical Leave                 -0.0770      0.057     -1.359      0.174      -0.188       0.034\n",
              "Education_College EmploymentStatus_Retired                       -0.0454      0.061     -0.742      0.458      -0.165       0.074\n",
              "Education_College EmploymentStatus_Unemployed                     0.0044      0.047      0.095      0.924      -0.087       0.096\n",
              "Education_Doctor^2                                                0.0711      0.127      0.558      0.577      -0.179       0.321\n",
              "Education_Doctor Education_High School or Below                        0          0        nan        nan           0           0\n",
              "Education_Doctor Education_Master                                      0          0        nan        nan           0           0\n",
              "Education_Doctor EmploymentStatus_Employed                       -0.1077      0.074     -1.457      0.145      -0.253       0.037\n",
              "Education_Doctor EmploymentStatus_Medical Leave                  -0.0875      0.093     -0.945      0.345      -0.269       0.094\n",
              "Education_Doctor EmploymentStatus_Retired                              0          0        nan        nan           0           0\n",
              "Education_Doctor EmploymentStatus_Unemployed                     -0.1341      0.080     -1.673      0.094      -0.291       0.023\n",
              "Education_High School or Below^2                                 -0.0336      0.066     -0.506      0.613      -0.164       0.096\n",
              "Education_High School or Below Education_Master                        0          0        nan        nan           0           0\n",
              "Education_High School or Below EmploymentStatus_Employed         -0.0048      0.046     -0.104      0.917      -0.094       0.085\n",
              "Education_High School or Below EmploymentStatus_Medical Leave    -0.1428      0.058     -2.477      0.013      -0.256      -0.030\n",
              "Education_High School or Below EmploymentStatus_Retired          -0.1884      0.065     -2.916      0.004      -0.315      -0.062\n",
              "Education_High School or Below EmploymentStatus_Unemployed       -0.0337      0.046     -0.741      0.459      -0.123       0.056\n",
              "Education_Master^2                                                0.0231      0.095      0.244      0.808      -0.163       0.209\n",
              "Education_Master EmploymentStatus_Employed                        0.0028      0.064      0.044      0.965      -0.123       0.129\n",
              "Education_Master EmploymentStatus_Medical Leave                  -0.0277      0.081     -0.341      0.733      -0.187       0.132\n",
              "Education_Master EmploymentStatus_Retired                        -0.0051      0.096     -0.054      0.957      -0.193       0.183\n",
              "Education_Master EmploymentStatus_Unemployed                     -0.0128      0.067     -0.190      0.849      -0.145       0.119\n",
              "EmploymentStatus_Employed^2                                      -0.0083      0.137     -0.061      0.951      -0.277       0.260\n",
              "EmploymentStatus_Employed EmploymentStatus_Medical Leave               0          0        nan        nan           0           0\n",
              "EmploymentStatus_Employed EmploymentStatus_Retired                     0          0        nan        nan           0           0\n",
              "EmploymentStatus_Employed EmploymentStatus_Unemployed                  0          0        nan        nan           0           0\n",
              "EmploymentStatus_Medical Leave^2                                  0.4569      0.175      2.618      0.009       0.115       0.799\n",
              "EmploymentStatus_Medical Leave EmploymentStatus_Retired                0          0        nan        nan           0           0\n",
              "EmploymentStatus_Medical Leave EmploymentStatus_Unemployed             0          0        nan        nan           0           0\n",
              "EmploymentStatus_Retired^2                                        0.3049      0.222      1.371      0.170      -0.131       0.741\n",
              "EmploymentStatus_Retired EmploymentStatus_Unemployed                   0          0        nan        nan           0           0\n",
              "EmploymentStatus_Unemployed^2                                     0.1345      0.139      0.970      0.332      -0.137       0.406\n",
              "==============================================================================\n",
              "Omnibus:                     1278.064   Durbin-Watson:                   2.023\n",
              "Prob(Omnibus):                  0.000   Jarque-Bera (JB):             5207.142\n",
              "Skew:                           1.428   Prob(JB):                         0.00\n",
              "Kurtosis:                       7.609   Cond. No.                     6.90e+17\n",
              "==============================================================================\n",
              "\n",
              "Notes:\n",
              "[1] Standard Errors assume that the covariance matrix of the errors is correctly specified.\n",
              "[2] The smallest eigenvalue is 1.13e-13. This might indicate that there are\n",
              "strong multicollinearity problems or that the design matrix is singular.\n",
              "\"\"\""
            ],
            "text/html": [
              "<table class=\"simpletable\">\n",
              "<caption>OLS Regression Results</caption>\n",
              "<tr>\n",
              "  <th>Dep. Variable:</th>    <td>Customer Lifetime Value</td> <th>  R-squared:         </th> <td>   0.907</td>\n",
              "</tr>\n",
              "<tr>\n",
              "  <th>Model:</th>                      <td>OLS</td>           <th>  Adj. R-squared:    </th> <td>   0.905</td>\n",
              "</tr>\n",
              "<tr>\n",
              "  <th>Method:</th>                <td>Least Squares</td>      <th>  F-statistic:       </th> <td>   378.1</td>\n",
              "</tr>\n",
              "<tr>\n",
              "  <th>Date:</th>                <td>Sun, 19 Feb 2023</td>     <th>  Prob (F-statistic):</th>  <td>  0.00</td> \n",
              "</tr>\n",
              "<tr>\n",
              "  <th>Time:</th>                    <td>04:08:02</td>         <th>  Log-Likelihood:    </th> <td>  816.47</td>\n",
              "</tr>\n",
              "<tr>\n",
              "  <th>No. Observations:</th>         <td>  4251</td>          <th>  AIC:               </th> <td>  -1417.</td>\n",
              "</tr>\n",
              "<tr>\n",
              "  <th>Df Residuals:</th>             <td>  4143</td>          <th>  BIC:               </th> <td>  -730.6</td>\n",
              "</tr>\n",
              "<tr>\n",
              "  <th>Df Model:</th>                 <td>   107</td>          <th>                     </th>     <td> </td>   \n",
              "</tr>\n",
              "<tr>\n",
              "  <th>Covariance Type:</th>         <td>nonrobust</td>        <th>                     </th>     <td> </td>   \n",
              "</tr>\n",
              "</table>\n",
              "<table class=\"simpletable\">\n",
              "<tr>\n",
              "                                <td></td>                                   <th>coef</th>     <th>std err</th>      <th>t</th>      <th>P>|t|</th>  <th>[0.025</th>    <th>0.975]</th>  \n",
              "</tr>\n",
              "<tr>\n",
              "  <th>1</th>                                                             <td>    3.0279</td> <td>    0.612</td> <td>    4.951</td> <td> 0.000</td> <td>    1.829</td> <td>    4.227</td>\n",
              "</tr>\n",
              "<tr>\n",
              "  <th>Monthly Premium Auto</th>                                          <td>    1.2162</td> <td>    0.252</td> <td>    4.826</td> <td> 0.000</td> <td>    0.722</td> <td>    1.710</td>\n",
              "</tr>\n",
              "<tr>\n",
              "  <th>Total Claim Amount</th>                                            <td>   -0.0322</td> <td>    0.072</td> <td>   -0.444</td> <td> 0.657</td> <td>   -0.174</td> <td>    0.110</td>\n",
              "</tr>\n",
              "<tr>\n",
              "  <th>Income</th>                                                        <td> 5.759e-06</td> <td> 4.14e-06</td> <td>    1.391</td> <td> 0.164</td> <td>-2.36e-06</td> <td> 1.39e-05</td>\n",
              "</tr>\n",
              "<tr>\n",
              "  <th>Marital Status_Married</th>                                        <td>    0.0698</td> <td>    0.072</td> <td>    0.974</td> <td> 0.330</td> <td>   -0.071</td> <td>    0.210</td>\n",
              "</tr>\n",
              "<tr>\n",
              "  <th>Marital Status_Single</th>                                         <td>    0.1182</td> <td>    0.086</td> <td>    1.367</td> <td> 0.172</td> <td>   -0.051</td> <td>    0.288</td>\n",
              "</tr>\n",
              "<tr>\n",
              "  <th>Number of Policies_2.0</th>                                        <td>    0.8158</td> <td>    0.065</td> <td>   12.577</td> <td> 0.000</td> <td>    0.689</td> <td>    0.943</td>\n",
              "</tr>\n",
              "<tr>\n",
              "  <th>Number of Policies_3.0</th>                                        <td>    0.3382</td> <td>    0.058</td> <td>    5.876</td> <td> 0.000</td> <td>    0.225</td> <td>    0.451</td>\n",
              "</tr>\n",
              "<tr>\n",
              "  <th>Education_College</th>                                             <td>   -0.0613</td> <td>    0.066</td> <td>   -0.927</td> <td> 0.354</td> <td>   -0.191</td> <td>    0.068</td>\n",
              "</tr>\n",
              "<tr>\n",
              "  <th>Education_Doctor</th>                                              <td>    0.0711</td> <td>    0.127</td> <td>    0.558</td> <td> 0.577</td> <td>   -0.179</td> <td>    0.321</td>\n",
              "</tr>\n",
              "<tr>\n",
              "  <th>Education_High School or Below</th>                                <td>   -0.0336</td> <td>    0.066</td> <td>   -0.506</td> <td> 0.613</td> <td>   -0.164</td> <td>    0.096</td>\n",
              "</tr>\n",
              "<tr>\n",
              "  <th>Education_Master</th>                                              <td>    0.0231</td> <td>    0.095</td> <td>    0.244</td> <td> 0.808</td> <td>   -0.163</td> <td>    0.209</td>\n",
              "</tr>\n",
              "<tr>\n",
              "  <th>EmploymentStatus_Employed</th>                                     <td>   -0.0083</td> <td>    0.137</td> <td>   -0.061</td> <td> 0.951</td> <td>   -0.277</td> <td>    0.260</td>\n",
              "</tr>\n",
              "<tr>\n",
              "  <th>EmploymentStatus_Medical Leave</th>                                <td>    0.4569</td> <td>    0.175</td> <td>    2.618</td> <td> 0.009</td> <td>    0.115</td> <td>    0.799</td>\n",
              "</tr>\n",
              "<tr>\n",
              "  <th>EmploymentStatus_Retired</th>                                      <td>    0.3049</td> <td>    0.222</td> <td>    1.371</td> <td> 0.170</td> <td>   -0.131</td> <td>    0.741</td>\n",
              "</tr>\n",
              "<tr>\n",
              "  <th>EmploymentStatus_Unemployed</th>                                   <td>    0.1345</td> <td>    0.139</td> <td>    0.970</td> <td> 0.332</td> <td>   -0.137</td> <td>    0.406</td>\n",
              "</tr>\n",
              "<tr>\n",
              "  <th>Monthly Premium Auto^2</th>                                        <td>   -0.0210</td> <td>    0.031</td> <td>   -0.673</td> <td> 0.501</td> <td>   -0.082</td> <td>    0.040</td>\n",
              "</tr>\n",
              "<tr>\n",
              "  <th>Monthly Premium Auto Total Claim Amount</th>                       <td>    0.0082</td> <td>    0.016</td> <td>    0.508</td> <td> 0.612</td> <td>   -0.024</td> <td>    0.040</td>\n",
              "</tr>\n",
              "<tr>\n",
              "  <th>Monthly Premium Auto Income</th>                                   <td>-1.151e-06</td> <td> 6.73e-07</td> <td>   -1.711</td> <td> 0.087</td> <td>-2.47e-06</td> <td> 1.68e-07</td>\n",
              "</tr>\n",
              "<tr>\n",
              "  <th>Monthly Premium Auto Marital Status_Married</th>                   <td>    0.0280</td> <td>    0.034</td> <td>    0.835</td> <td> 0.404</td> <td>   -0.038</td> <td>    0.094</td>\n",
              "</tr>\n",
              "<tr>\n",
              "  <th>Monthly Premium Auto Marital Status_Single</th>                    <td>    0.0220</td> <td>    0.040</td> <td>    0.543</td> <td> 0.587</td> <td>   -0.057</td> <td>    0.101</td>\n",
              "</tr>\n",
              "<tr>\n",
              "  <th>Monthly Premium Auto Number of Policies_2.0</th>                   <td>   -0.0553</td> <td>    0.030</td> <td>   -1.827</td> <td> 0.068</td> <td>   -0.115</td> <td>    0.004</td>\n",
              "</tr>\n",
              "<tr>\n",
              "  <th>Monthly Premium Auto Number of Policies_3.0</th>                   <td>    0.0031</td> <td>    0.026</td> <td>    0.117</td> <td> 0.907</td> <td>   -0.049</td> <td>    0.055</td>\n",
              "</tr>\n",
              "<tr>\n",
              "  <th>Monthly Premium Auto Education_College</th>                        <td>    0.0177</td> <td>    0.030</td> <td>    0.599</td> <td> 0.549</td> <td>   -0.040</td> <td>    0.076</td>\n",
              "</tr>\n",
              "<tr>\n",
              "  <th>Monthly Premium Auto Education_Doctor</th>                         <td>    0.0097</td> <td>    0.061</td> <td>    0.160</td> <td> 0.873</td> <td>   -0.109</td> <td>    0.128</td>\n",
              "</tr>\n",
              "<tr>\n",
              "  <th>Monthly Premium Auto Education_High School or Below</th>           <td>    0.0203</td> <td>    0.030</td> <td>    0.669</td> <td> 0.503</td> <td>   -0.039</td> <td>    0.080</td>\n",
              "</tr>\n",
              "<tr>\n",
              "  <th>Monthly Premium Auto Education_Master</th>                         <td>    0.0171</td> <td>    0.045</td> <td>    0.380</td> <td> 0.704</td> <td>   -0.071</td> <td>    0.105</td>\n",
              "</tr>\n",
              "<tr>\n",
              "  <th>Monthly Premium Auto EmploymentStatus_Employed</th>                <td>   -0.0145</td> <td>    0.066</td> <td>   -0.221</td> <td> 0.825</td> <td>   -0.143</td> <td>    0.114</td>\n",
              "</tr>\n",
              "<tr>\n",
              "  <th>Monthly Premium Auto EmploymentStatus_Medical Leave</th>           <td>   -0.2343</td> <td>    0.083</td> <td>   -2.811</td> <td> 0.005</td> <td>   -0.398</td> <td>   -0.071</td>\n",
              "</tr>\n",
              "<tr>\n",
              "  <th>Monthly Premium Auto EmploymentStatus_Retired</th>                 <td>   -0.2040</td> <td>    0.129</td> <td>   -1.579</td> <td> 0.114</td> <td>   -0.457</td> <td>    0.049</td>\n",
              "</tr>\n",
              "<tr>\n",
              "  <th>Monthly Premium Auto EmploymentStatus_Unemployed</th>              <td>   -0.1728</td> <td>    0.067</td> <td>   -2.570</td> <td> 0.010</td> <td>   -0.305</td> <td>   -0.041</td>\n",
              "</tr>\n",
              "<tr>\n",
              "  <th>Total Claim Amount^2</th>                                          <td>   -0.0018</td> <td>    0.003</td> <td>   -0.650</td> <td> 0.516</td> <td>   -0.007</td> <td>    0.004</td>\n",
              "</tr>\n",
              "<tr>\n",
              "  <th>Total Claim Amount Income</th>                                     <td> 5.668e-08</td> <td> 2.31e-07</td> <td>    0.246</td> <td> 0.806</td> <td>-3.96e-07</td> <td> 5.09e-07</td>\n",
              "</tr>\n",
              "<tr>\n",
              "  <th>Total Claim Amount Marital Status_Married</th>                     <td>   -0.0269</td> <td>    0.013</td> <td>   -2.131</td> <td> 0.033</td> <td>   -0.052</td> <td>   -0.002</td>\n",
              "</tr>\n",
              "<tr>\n",
              "  <th>Total Claim Amount Marital Status_Single</th>                      <td>   -0.0482</td> <td>    0.016</td> <td>   -3.018</td> <td> 0.003</td> <td>   -0.079</td> <td>   -0.017</td>\n",
              "</tr>\n",
              "<tr>\n",
              "  <th>Total Claim Amount Number of Policies_2.0</th>                     <td>   -0.0129</td> <td>    0.012</td> <td>   -1.118</td> <td> 0.264</td> <td>   -0.036</td> <td>    0.010</td>\n",
              "</tr>\n",
              "<tr>\n",
              "  <th>Total Claim Amount Number of Policies_3.0</th>                     <td>    0.0003</td> <td>    0.010</td> <td>    0.030</td> <td> 0.976</td> <td>   -0.019</td> <td>    0.020</td>\n",
              "</tr>\n",
              "<tr>\n",
              "  <th>Total Claim Amount Education_College</th>                          <td>    0.0099</td> <td>    0.011</td> <td>    0.890</td> <td> 0.374</td> <td>   -0.012</td> <td>    0.032</td>\n",
              "</tr>\n",
              "<tr>\n",
              "  <th>Total Claim Amount Education_Doctor</th>                           <td>   -0.0115</td> <td>    0.020</td> <td>   -0.584</td> <td> 0.559</td> <td>   -0.050</td> <td>    0.027</td>\n",
              "</tr>\n",
              "<tr>\n",
              "  <th>Total Claim Amount Education_High School or Below</th>             <td>    0.0070</td> <td>    0.012</td> <td>    0.598</td> <td> 0.550</td> <td>   -0.016</td> <td>    0.030</td>\n",
              "</tr>\n",
              "<tr>\n",
              "  <th>Total Claim Amount Education_Master</th>                           <td>   -0.0170</td> <td>    0.016</td> <td>   -1.089</td> <td> 0.276</td> <td>   -0.047</td> <td>    0.014</td>\n",
              "</tr>\n",
              "<tr>\n",
              "  <th>Total Claim Amount EmploymentStatus_Employed</th>                  <td>    0.0283</td> <td>    0.030</td> <td>    0.936</td> <td> 0.349</td> <td>   -0.031</td> <td>    0.088</td>\n",
              "</tr>\n",
              "<tr>\n",
              "  <th>Total Claim Amount EmploymentStatus_Medical Leave</th>             <td>    0.0419</td> <td>    0.038</td> <td>    1.113</td> <td> 0.266</td> <td>   -0.032</td> <td>    0.116</td>\n",
              "</tr>\n",
              "<tr>\n",
              "  <th>Total Claim Amount EmploymentStatus_Retired</th>                   <td>    0.0659</td> <td>    0.104</td> <td>    0.636</td> <td> 0.525</td> <td>   -0.137</td> <td>    0.269</td>\n",
              "</tr>\n",
              "<tr>\n",
              "  <th>Total Claim Amount EmploymentStatus_Unemployed</th>                <td>    0.0873</td> <td>    0.032</td> <td>    2.753</td> <td> 0.006</td> <td>    0.025</td> <td>    0.149</td>\n",
              "</tr>\n",
              "<tr>\n",
              "  <th>Income^2</th>                                                      <td> 1.155e-11</td> <td> 8.77e-12</td> <td>    1.316</td> <td> 0.188</td> <td>-5.65e-12</td> <td> 2.88e-11</td>\n",
              "</tr>\n",
              "<tr>\n",
              "  <th>Income Marital Status_Married</th>                                 <td>-9.642e-07</td> <td> 5.32e-07</td> <td>   -1.811</td> <td> 0.070</td> <td>-2.01e-06</td> <td> 7.93e-08</td>\n",
              "</tr>\n",
              "<tr>\n",
              "  <th>Income Marital Status_Single</th>                                  <td>-5.795e-07</td> <td> 6.63e-07</td> <td>   -0.874</td> <td> 0.382</td> <td>-1.88e-06</td> <td>  7.2e-07</td>\n",
              "</tr>\n",
              "<tr>\n",
              "  <th>Income Number of Policies_2.0</th>                                 <td> 5.502e-08</td> <td> 4.78e-07</td> <td>    0.115</td> <td> 0.908</td> <td>-8.83e-07</td> <td> 9.93e-07</td>\n",
              "</tr>\n",
              "<tr>\n",
              "  <th>Income Number of Policies_3.0</th>                                 <td>-7.182e-09</td> <td> 4.16e-07</td> <td>   -0.017</td> <td> 0.986</td> <td>-8.23e-07</td> <td> 8.08e-07</td>\n",
              "</tr>\n",
              "<tr>\n",
              "  <th>Income Education_College</th>                                      <td>-3.369e-07</td> <td> 4.75e-07</td> <td>   -0.709</td> <td> 0.479</td> <td>-1.27e-06</td> <td> 5.95e-07</td>\n",
              "</tr>\n",
              "<tr>\n",
              "  <th>Income Education_Doctor</th>                                       <td> -2.33e-08</td> <td> 9.57e-07</td> <td>   -0.024</td> <td> 0.981</td> <td> -1.9e-06</td> <td> 1.85e-06</td>\n",
              "</tr>\n",
              "<tr>\n",
              "  <th>Income Education_High School or Below</th>                         <td>-1.816e-07</td> <td> 4.85e-07</td> <td>   -0.374</td> <td> 0.708</td> <td>-1.13e-06</td> <td>  7.7e-07</td>\n",
              "</tr>\n",
              "<tr>\n",
              "  <th>Income Education_Master</th>                                       <td>-1.147e-07</td> <td> 6.42e-07</td> <td>   -0.179</td> <td> 0.858</td> <td>-1.37e-06</td> <td> 1.14e-06</td>\n",
              "</tr>\n",
              "<tr>\n",
              "  <th>Income EmploymentStatus_Employed</th>                              <td>-1.037e-06</td> <td>  3.1e-06</td> <td>   -0.334</td> <td> 0.738</td> <td>-7.12e-06</td> <td> 5.05e-06</td>\n",
              "</tr>\n",
              "<tr>\n",
              "  <th>Income EmploymentStatus_Medical Leave</th>                         <td> 1.131e-06</td> <td>  4.1e-06</td> <td>    0.276</td> <td> 0.783</td> <td>-6.91e-06</td> <td> 9.17e-06</td>\n",
              "</tr>\n",
              "<tr>\n",
              "  <th>Income EmploymentStatus_Retired</th>                               <td>-4.451e-06</td> <td> 4.53e-06</td> <td>   -0.981</td> <td> 0.326</td> <td>-1.33e-05</td> <td> 4.44e-06</td>\n",
              "</tr>\n",
              "<tr>\n",
              "  <th>Income EmploymentStatus_Unemployed</th>                            <td> 2.274e-16</td> <td> 2.13e-16</td> <td>    1.068</td> <td> 0.286</td> <td> -1.9e-16</td> <td> 6.45e-16</td>\n",
              "</tr>\n",
              "<tr>\n",
              "  <th>Marital Status_Married^2</th>                                      <td>    0.0698</td> <td>    0.072</td> <td>    0.974</td> <td> 0.330</td> <td>   -0.071</td> <td>    0.210</td>\n",
              "</tr>\n",
              "<tr>\n",
              "  <th>Marital Status_Married Marital Status_Single</th>                  <td> 3.858e-17</td> <td> 3.66e-16</td> <td>    0.105</td> <td> 0.916</td> <td> -6.8e-16</td> <td> 7.57e-16</td>\n",
              "</tr>\n",
              "<tr>\n",
              "  <th>Marital Status_Married Number of Policies_2.0</th>                 <td>   -0.0205</td> <td>    0.023</td> <td>   -0.882</td> <td> 0.378</td> <td>   -0.066</td> <td>    0.025</td>\n",
              "</tr>\n",
              "<tr>\n",
              "  <th>Marital Status_Married Number of Policies_3.0</th>                 <td>    0.0025</td> <td>    0.022</td> <td>    0.113</td> <td> 0.910</td> <td>   -0.040</td> <td>    0.045</td>\n",
              "</tr>\n",
              "<tr>\n",
              "  <th>Marital Status_Married Education_College</th>                      <td>   -0.0451</td> <td>    0.024</td> <td>   -1.867</td> <td> 0.062</td> <td>   -0.092</td> <td>    0.002</td>\n",
              "</tr>\n",
              "<tr>\n",
              "  <th>Marital Status_Married Education_Doctor</th>                       <td>   -0.0013</td> <td>    0.046</td> <td>   -0.029</td> <td> 0.977</td> <td>   -0.091</td> <td>    0.089</td>\n",
              "</tr>\n",
              "<tr>\n",
              "  <th>Marital Status_Married Education_High School or Below</th>         <td>   -0.0348</td> <td>    0.025</td> <td>   -1.389</td> <td> 0.165</td> <td>   -0.084</td> <td>    0.014</td>\n",
              "</tr>\n",
              "<tr>\n",
              "  <th>Marital Status_Married Education_Master</th>                       <td>   -0.0178</td> <td>    0.034</td> <td>   -0.528</td> <td> 0.598</td> <td>   -0.084</td> <td>    0.048</td>\n",
              "</tr>\n",
              "<tr>\n",
              "  <th>Marital Status_Married EmploymentStatus_Employed</th>              <td>   -0.0352</td> <td>    0.044</td> <td>   -0.801</td> <td> 0.423</td> <td>   -0.121</td> <td>    0.051</td>\n",
              "</tr>\n",
              "<tr>\n",
              "  <th>Marital Status_Married EmploymentStatus_Medical Leave</th>         <td>   -0.1065</td> <td>    0.055</td> <td>   -1.926</td> <td> 0.054</td> <td>   -0.215</td> <td>    0.002</td>\n",
              "</tr>\n",
              "<tr>\n",
              "  <th>Marital Status_Married EmploymentStatus_Retired</th>               <td>    0.1129</td> <td>    0.058</td> <td>    1.951</td> <td> 0.051</td> <td>   -0.001</td> <td>    0.226</td>\n",
              "</tr>\n",
              "<tr>\n",
              "  <th>Marital Status_Married EmploymentStatus_Unemployed</th>            <td>   -0.0486</td> <td>    0.046</td> <td>   -1.055</td> <td> 0.292</td> <td>   -0.139</td> <td>    0.042</td>\n",
              "</tr>\n",
              "<tr>\n",
              "  <th>Marital Status_Single^2</th>                                       <td>    0.1182</td> <td>    0.086</td> <td>    1.367</td> <td> 0.172</td> <td>   -0.051</td> <td>    0.288</td>\n",
              "</tr>\n",
              "<tr>\n",
              "  <th>Marital Status_Single Number of Policies_2.0</th>                  <td>   -0.0032</td> <td>    0.027</td> <td>   -0.119</td> <td> 0.905</td> <td>   -0.056</td> <td>    0.050</td>\n",
              "</tr>\n",
              "<tr>\n",
              "  <th>Marital Status_Single Number of Policies_3.0</th>                  <td>   -0.0045</td> <td>    0.025</td> <td>   -0.176</td> <td> 0.860</td> <td>   -0.054</td> <td>    0.045</td>\n",
              "</tr>\n",
              "<tr>\n",
              "  <th>Marital Status_Single Education_College</th>                       <td>   -0.0153</td> <td>    0.028</td> <td>   -0.556</td> <td> 0.579</td> <td>   -0.069</td> <td>    0.039</td>\n",
              "</tr>\n",
              "<tr>\n",
              "  <th>Marital Status_Single Education_Doctor</th>                        <td>    0.0352</td> <td>    0.063</td> <td>    0.560</td> <td> 0.576</td> <td>   -0.088</td> <td>    0.159</td>\n",
              "</tr>\n",
              "<tr>\n",
              "  <th>Marital Status_Single Education_High School or Below</th>          <td>   -0.0278</td> <td>    0.029</td> <td>   -0.972</td> <td> 0.331</td> <td>   -0.084</td> <td>    0.028</td>\n",
              "</tr>\n",
              "<tr>\n",
              "  <th>Marital Status_Single Education_Master</th>                        <td>   -0.0109</td> <td>    0.043</td> <td>   -0.255</td> <td> 0.799</td> <td>   -0.094</td> <td>    0.073</td>\n",
              "</tr>\n",
              "<tr>\n",
              "  <th>Marital Status_Single EmploymentStatus_Employed</th>               <td>   -0.0323</td> <td>    0.063</td> <td>   -0.512</td> <td> 0.609</td> <td>   -0.156</td> <td>    0.091</td>\n",
              "</tr>\n",
              "<tr>\n",
              "  <th>Marital Status_Single EmploymentStatus_Medical Leave</th>          <td>   -0.1051</td> <td>    0.076</td> <td>   -1.383</td> <td> 0.167</td> <td>   -0.254</td> <td>    0.044</td>\n",
              "</tr>\n",
              "<tr>\n",
              "  <th>Marital Status_Single EmploymentStatus_Retired</th>                <td>    0.0707</td> <td>    0.073</td> <td>    0.963</td> <td> 0.336</td> <td>   -0.073</td> <td>    0.215</td>\n",
              "</tr>\n",
              "<tr>\n",
              "  <th>Marital Status_Single EmploymentStatus_Unemployed</th>             <td>   -0.0851</td> <td>    0.062</td> <td>   -1.369</td> <td> 0.171</td> <td>   -0.207</td> <td>    0.037</td>\n",
              "</tr>\n",
              "<tr>\n",
              "  <th>Number of Policies_2.0^2</th>                                      <td>    0.8158</td> <td>    0.065</td> <td>   12.577</td> <td> 0.000</td> <td>    0.689</td> <td>    0.943</td>\n",
              "</tr>\n",
              "<tr>\n",
              "  <th>Number of Policies_2.0 Number of Policies_3.0</th>                 <td> -7.41e-17</td> <td> 1.25e-16</td> <td>   -0.594</td> <td> 0.553</td> <td>-3.19e-16</td> <td>  1.7e-16</td>\n",
              "</tr>\n",
              "<tr>\n",
              "  <th>Number of Policies_2.0 Education_College</th>                      <td>   -0.0303</td> <td>    0.021</td> <td>   -1.438</td> <td> 0.151</td> <td>   -0.072</td> <td>    0.011</td>\n",
              "</tr>\n",
              "<tr>\n",
              "  <th>Number of Policies_2.0 Education_Doctor</th>                       <td>    0.0186</td> <td>    0.046</td> <td>    0.402</td> <td> 0.687</td> <td>   -0.072</td> <td>    0.109</td>\n",
              "</tr>\n",
              "<tr>\n",
              "  <th>Number of Policies_2.0 Education_High School or Below</th>         <td>    0.0311</td> <td>    0.022</td> <td>    1.429</td> <td> 0.153</td> <td>   -0.012</td> <td>    0.074</td>\n",
              "</tr>\n",
              "<tr>\n",
              "  <th>Number of Policies_2.0 Education_Master</th>                       <td>    0.0996</td> <td>    0.033</td> <td>    2.988</td> <td> 0.003</td> <td>    0.034</td> <td>    0.165</td>\n",
              "</tr>\n",
              "<tr>\n",
              "  <th>Number of Policies_2.0 EmploymentStatus_Employed</th>              <td>    0.0828</td> <td>    0.043</td> <td>    1.919</td> <td> 0.055</td> <td>   -0.002</td> <td>    0.167</td>\n",
              "</tr>\n",
              "<tr>\n",
              "  <th>Number of Policies_2.0 EmploymentStatus_Medical Leave</th>         <td>    0.1687</td> <td>    0.055</td> <td>    3.070</td> <td> 0.002</td> <td>    0.061</td> <td>    0.276</td>\n",
              "</tr>\n",
              "<tr>\n",
              "  <th>Number of Policies_2.0 EmploymentStatus_Retired</th>               <td>    0.1281</td> <td>    0.059</td> <td>    2.167</td> <td> 0.030</td> <td>    0.012</td> <td>    0.244</td>\n",
              "</tr>\n",
              "<tr>\n",
              "  <th>Number of Policies_2.0 EmploymentStatus_Unemployed</th>            <td>    0.1472</td> <td>    0.044</td> <td>    3.381</td> <td> 0.001</td> <td>    0.062</td> <td>    0.233</td>\n",
              "</tr>\n",
              "<tr>\n",
              "  <th>Number of Policies_3.0^2</th>                                      <td>    0.3382</td> <td>    0.058</td> <td>    5.876</td> <td> 0.000</td> <td>    0.225</td> <td>    0.451</td>\n",
              "</tr>\n",
              "<tr>\n",
              "  <th>Number of Policies_3.0 Education_College</th>                      <td>    0.0082</td> <td>    0.019</td> <td>    0.431</td> <td> 0.667</td> <td>   -0.029</td> <td>    0.046</td>\n",
              "</tr>\n",
              "<tr>\n",
              "  <th>Number of Policies_3.0 Education_Doctor</th>                       <td>   -0.0114</td> <td>    0.038</td> <td>   -0.296</td> <td> 0.767</td> <td>   -0.087</td> <td>    0.064</td>\n",
              "</tr>\n",
              "<tr>\n",
              "  <th>Number of Policies_3.0 Education_High School or Below</th>         <td>    0.0006</td> <td>    0.019</td> <td>    0.033</td> <td> 0.973</td> <td>   -0.037</td> <td>    0.038</td>\n",
              "</tr>\n",
              "<tr>\n",
              "  <th>Number of Policies_3.0 Education_Master</th>                       <td>    0.0060</td> <td>    0.029</td> <td>    0.203</td> <td> 0.839</td> <td>   -0.052</td> <td>    0.063</td>\n",
              "</tr>\n",
              "<tr>\n",
              "  <th>Number of Policies_3.0 EmploymentStatus_Employed</th>              <td>   -0.0026</td> <td>    0.040</td> <td>   -0.066</td> <td> 0.948</td> <td>   -0.081</td> <td>    0.076</td>\n",
              "</tr>\n",
              "<tr>\n",
              "  <th>Number of Policies_3.0 EmploymentStatus_Medical Leave</th>         <td>    0.0067</td> <td>    0.050</td> <td>    0.134</td> <td> 0.893</td> <td>   -0.091</td> <td>    0.104</td>\n",
              "</tr>\n",
              "<tr>\n",
              "  <th>Number of Policies_3.0 EmploymentStatus_Retired</th>               <td>   -0.0426</td> <td>    0.057</td> <td>   -0.744</td> <td> 0.457</td> <td>   -0.155</td> <td>    0.070</td>\n",
              "</tr>\n",
              "<tr>\n",
              "  <th>Number of Policies_3.0 EmploymentStatus_Unemployed</th>            <td>    0.0057</td> <td>    0.040</td> <td>    0.142</td> <td> 0.887</td> <td>   -0.073</td> <td>    0.084</td>\n",
              "</tr>\n",
              "<tr>\n",
              "  <th>Education_College^2</th>                                           <td>   -0.0613</td> <td>    0.066</td> <td>   -0.927</td> <td> 0.354</td> <td>   -0.191</td> <td>    0.068</td>\n",
              "</tr>\n",
              "<tr>\n",
              "  <th>Education_College Education_Doctor</th>                            <td> 1.757e-16</td> <td> 4.87e-17</td> <td>    3.610</td> <td> 0.000</td> <td> 8.03e-17</td> <td> 2.71e-16</td>\n",
              "</tr>\n",
              "<tr>\n",
              "  <th>Education_College Education_High School or Below</th>              <td> 4.477e-17</td> <td> 4.24e-17</td> <td>    1.056</td> <td> 0.291</td> <td>-3.83e-17</td> <td> 1.28e-16</td>\n",
              "</tr>\n",
              "<tr>\n",
              "  <th>Education_College Education_Master</th>                            <td>  8.56e-17</td> <td> 3.67e-17</td> <td>    2.331</td> <td> 0.020</td> <td> 1.36e-17</td> <td> 1.58e-16</td>\n",
              "</tr>\n",
              "<tr>\n",
              "  <th>Education_College EmploymentStatus_Employed</th>                   <td>    0.0408</td> <td>    0.046</td> <td>    0.881</td> <td> 0.378</td> <td>   -0.050</td> <td>    0.132</td>\n",
              "</tr>\n",
              "<tr>\n",
              "  <th>Education_College EmploymentStatus_Medical Leave</th>              <td>   -0.0770</td> <td>    0.057</td> <td>   -1.359</td> <td> 0.174</td> <td>   -0.188</td> <td>    0.034</td>\n",
              "</tr>\n",
              "<tr>\n",
              "  <th>Education_College EmploymentStatus_Retired</th>                    <td>   -0.0454</td> <td>    0.061</td> <td>   -0.742</td> <td> 0.458</td> <td>   -0.165</td> <td>    0.074</td>\n",
              "</tr>\n",
              "<tr>\n",
              "  <th>Education_College EmploymentStatus_Unemployed</th>                 <td>    0.0044</td> <td>    0.047</td> <td>    0.095</td> <td> 0.924</td> <td>   -0.087</td> <td>    0.096</td>\n",
              "</tr>\n",
              "<tr>\n",
              "  <th>Education_Doctor^2</th>                                            <td>    0.0711</td> <td>    0.127</td> <td>    0.558</td> <td> 0.577</td> <td>   -0.179</td> <td>    0.321</td>\n",
              "</tr>\n",
              "<tr>\n",
              "  <th>Education_Doctor Education_High School or Below</th>               <td>         0</td> <td>        0</td> <td>      nan</td> <td>   nan</td> <td>        0</td> <td>        0</td>\n",
              "</tr>\n",
              "<tr>\n",
              "  <th>Education_Doctor Education_Master</th>                             <td>         0</td> <td>        0</td> <td>      nan</td> <td>   nan</td> <td>        0</td> <td>        0</td>\n",
              "</tr>\n",
              "<tr>\n",
              "  <th>Education_Doctor EmploymentStatus_Employed</th>                    <td>   -0.1077</td> <td>    0.074</td> <td>   -1.457</td> <td> 0.145</td> <td>   -0.253</td> <td>    0.037</td>\n",
              "</tr>\n",
              "<tr>\n",
              "  <th>Education_Doctor EmploymentStatus_Medical Leave</th>               <td>   -0.0875</td> <td>    0.093</td> <td>   -0.945</td> <td> 0.345</td> <td>   -0.269</td> <td>    0.094</td>\n",
              "</tr>\n",
              "<tr>\n",
              "  <th>Education_Doctor EmploymentStatus_Retired</th>                     <td>         0</td> <td>        0</td> <td>      nan</td> <td>   nan</td> <td>        0</td> <td>        0</td>\n",
              "</tr>\n",
              "<tr>\n",
              "  <th>Education_Doctor EmploymentStatus_Unemployed</th>                  <td>   -0.1341</td> <td>    0.080</td> <td>   -1.673</td> <td> 0.094</td> <td>   -0.291</td> <td>    0.023</td>\n",
              "</tr>\n",
              "<tr>\n",
              "  <th>Education_High School or Below^2</th>                              <td>   -0.0336</td> <td>    0.066</td> <td>   -0.506</td> <td> 0.613</td> <td>   -0.164</td> <td>    0.096</td>\n",
              "</tr>\n",
              "<tr>\n",
              "  <th>Education_High School or Below Education_Master</th>               <td>         0</td> <td>        0</td> <td>      nan</td> <td>   nan</td> <td>        0</td> <td>        0</td>\n",
              "</tr>\n",
              "<tr>\n",
              "  <th>Education_High School or Below EmploymentStatus_Employed</th>      <td>   -0.0048</td> <td>    0.046</td> <td>   -0.104</td> <td> 0.917</td> <td>   -0.094</td> <td>    0.085</td>\n",
              "</tr>\n",
              "<tr>\n",
              "  <th>Education_High School or Below EmploymentStatus_Medical Leave</th> <td>   -0.1428</td> <td>    0.058</td> <td>   -2.477</td> <td> 0.013</td> <td>   -0.256</td> <td>   -0.030</td>\n",
              "</tr>\n",
              "<tr>\n",
              "  <th>Education_High School or Below EmploymentStatus_Retired</th>       <td>   -0.1884</td> <td>    0.065</td> <td>   -2.916</td> <td> 0.004</td> <td>   -0.315</td> <td>   -0.062</td>\n",
              "</tr>\n",
              "<tr>\n",
              "  <th>Education_High School or Below EmploymentStatus_Unemployed</th>    <td>   -0.0337</td> <td>    0.046</td> <td>   -0.741</td> <td> 0.459</td> <td>   -0.123</td> <td>    0.056</td>\n",
              "</tr>\n",
              "<tr>\n",
              "  <th>Education_Master^2</th>                                            <td>    0.0231</td> <td>    0.095</td> <td>    0.244</td> <td> 0.808</td> <td>   -0.163</td> <td>    0.209</td>\n",
              "</tr>\n",
              "<tr>\n",
              "  <th>Education_Master EmploymentStatus_Employed</th>                    <td>    0.0028</td> <td>    0.064</td> <td>    0.044</td> <td> 0.965</td> <td>   -0.123</td> <td>    0.129</td>\n",
              "</tr>\n",
              "<tr>\n",
              "  <th>Education_Master EmploymentStatus_Medical Leave</th>               <td>   -0.0277</td> <td>    0.081</td> <td>   -0.341</td> <td> 0.733</td> <td>   -0.187</td> <td>    0.132</td>\n",
              "</tr>\n",
              "<tr>\n",
              "  <th>Education_Master EmploymentStatus_Retired</th>                     <td>   -0.0051</td> <td>    0.096</td> <td>   -0.054</td> <td> 0.957</td> <td>   -0.193</td> <td>    0.183</td>\n",
              "</tr>\n",
              "<tr>\n",
              "  <th>Education_Master EmploymentStatus_Unemployed</th>                  <td>   -0.0128</td> <td>    0.067</td> <td>   -0.190</td> <td> 0.849</td> <td>   -0.145</td> <td>    0.119</td>\n",
              "</tr>\n",
              "<tr>\n",
              "  <th>EmploymentStatus_Employed^2</th>                                   <td>   -0.0083</td> <td>    0.137</td> <td>   -0.061</td> <td> 0.951</td> <td>   -0.277</td> <td>    0.260</td>\n",
              "</tr>\n",
              "<tr>\n",
              "  <th>EmploymentStatus_Employed EmploymentStatus_Medical Leave</th>      <td>         0</td> <td>        0</td> <td>      nan</td> <td>   nan</td> <td>        0</td> <td>        0</td>\n",
              "</tr>\n",
              "<tr>\n",
              "  <th>EmploymentStatus_Employed EmploymentStatus_Retired</th>            <td>         0</td> <td>        0</td> <td>      nan</td> <td>   nan</td> <td>        0</td> <td>        0</td>\n",
              "</tr>\n",
              "<tr>\n",
              "  <th>EmploymentStatus_Employed EmploymentStatus_Unemployed</th>         <td>         0</td> <td>        0</td> <td>      nan</td> <td>   nan</td> <td>        0</td> <td>        0</td>\n",
              "</tr>\n",
              "<tr>\n",
              "  <th>EmploymentStatus_Medical Leave^2</th>                              <td>    0.4569</td> <td>    0.175</td> <td>    2.618</td> <td> 0.009</td> <td>    0.115</td> <td>    0.799</td>\n",
              "</tr>\n",
              "<tr>\n",
              "  <th>EmploymentStatus_Medical Leave EmploymentStatus_Retired</th>       <td>         0</td> <td>        0</td> <td>      nan</td> <td>   nan</td> <td>        0</td> <td>        0</td>\n",
              "</tr>\n",
              "<tr>\n",
              "  <th>EmploymentStatus_Medical Leave EmploymentStatus_Unemployed</th>    <td>         0</td> <td>        0</td> <td>      nan</td> <td>   nan</td> <td>        0</td> <td>        0</td>\n",
              "</tr>\n",
              "<tr>\n",
              "  <th>EmploymentStatus_Retired^2</th>                                    <td>    0.3049</td> <td>    0.222</td> <td>    1.371</td> <td> 0.170</td> <td>   -0.131</td> <td>    0.741</td>\n",
              "</tr>\n",
              "<tr>\n",
              "  <th>EmploymentStatus_Retired EmploymentStatus_Unemployed</th>          <td>         0</td> <td>        0</td> <td>      nan</td> <td>   nan</td> <td>        0</td> <td>        0</td>\n",
              "</tr>\n",
              "<tr>\n",
              "  <th>EmploymentStatus_Unemployed^2</th>                                 <td>    0.1345</td> <td>    0.139</td> <td>    0.970</td> <td> 0.332</td> <td>   -0.137</td> <td>    0.406</td>\n",
              "</tr>\n",
              "</table>\n",
              "<table class=\"simpletable\">\n",
              "<tr>\n",
              "  <th>Omnibus:</th>       <td>1278.064</td> <th>  Durbin-Watson:     </th> <td>   2.023</td>\n",
              "</tr>\n",
              "<tr>\n",
              "  <th>Prob(Omnibus):</th>  <td> 0.000</td>  <th>  Jarque-Bera (JB):  </th> <td>5207.142</td>\n",
              "</tr>\n",
              "<tr>\n",
              "  <th>Skew:</th>           <td> 1.428</td>  <th>  Prob(JB):          </th> <td>    0.00</td>\n",
              "</tr>\n",
              "<tr>\n",
              "  <th>Kurtosis:</th>       <td> 7.609</td>  <th>  Cond. No.          </th> <td>6.90e+17</td>\n",
              "</tr>\n",
              "</table><br/><br/>Notes:<br/>[1] Standard Errors assume that the covariance matrix of the errors is correctly specified.<br/>[2] The smallest eigenvalue is 1.13e-13. This might indicate that there are<br/>strong multicollinearity problems or that the design matrix is singular."
            ]
          },
          "metadata": {},
          "execution_count": 46
        }
      ]
    },
    {
      "cell_type": "markdown",
      "source": [
        " **Rsq = 0.907**"
      ],
      "metadata": {
        "id": "PttZt2tzLzs5"
      }
    },
    {
      "metadata": {
        "trusted": false,
        "id": "Z9JUHPWNt7GV",
        "colab": {
          "base_uri": "https://localhost:8080/",
          "height": 301
        },
        "outputId": "84f565b2-4797-493d-cd5e-ee4e904ad1b2"
      },
      "cell_type": "code",
      "source": [
        "# Model graph to see predictions\n",
        "\n",
        "\n",
        "df_pol_test = sm.add_constant(df_pol_test)\n",
        "\n",
        "y_preds = results_pol.predict(df_pol_test)\n",
        "sns.set(color_codes=True)\n",
        "plt.scatter(y_test, y_preds)\n",
        "plt.plot(y_test, y_test, color=\"red\")\n",
        "plt.xlabel(\"Actual ltv\")\n",
        "plt.ylabel(\"Estimated ltv\", )\n",
        "plt.title(\"Actual vs Estimated Customer LTV-Polynomial Features\")\n",
        "plt.show()"
      ],
      "execution_count": 47,
      "outputs": [
        {
          "output_type": "display_data",
          "data": {
            "text/plain": [
              "<Figure size 432x288 with 1 Axes>"
            ],
            "image/png": "[encoded data removed]"
          },
          "metadata": {}
        }
      ]
    },
    {
      "metadata": {
        "trusted": false,
        "id": "npeHdV9Et7GW",
        "colab": {
          "base_uri": "https://localhost:8080/"
        },
        "outputId": "8d380360-8109-474a-8b3a-5b59c1fc810f"
      },
      "cell_type": "code",
      "source": [
        "print(\"Mean Absolute Error (MAE)     : {}\".format(mean_absolute_error(y_test, y_preds)))\n",
        "print(\"Mean Sq. Error (MSE)          : {}\".format(mse(y_test, y_preds)))\n",
        "print(\"Root Mean Sq. Error (RMSE)    : {}\".format(rmse(y_test, y_preds)))\n",
        "print(\"Mean Abs. Perc. Error (MAPE)  : {}\".format(np.mean(np.abs((y_test - y_preds) / y_test)) * 100))"
      ],
      "execution_count": 48,
      "outputs": [
        {
          "output_type": "stream",
          "name": "stdout",
          "text": [
            "Mean Absolute Error (MAE)     : 0.11051161909746059\n",
            "Mean Sq. Error (MSE)          : 0.043523386951936575\n",
            "Root Mean Sq. Error (RMSE)    : 0.20862259453840704\n",
            "Mean Abs. Perc. Error (MAPE)  : 1.1750108312590208\n"
          ]
        }
      ]
    },
    {
      "metadata": {
        "trusted": false,
        "colab": {
          "base_uri": "https://localhost:8080/",
          "height": 301
        },
        "id": "l009Tg9vt7GX",
        "outputId": "48b55498-d201-47a6-cde6-b305313cef39"
      },
      "cell_type": "code",
      "source": [
        "# Model graph to see exponential version of predictions\n",
        "\n",
        "\n",
        "df_pol_test = sm.add_constant(df_pol_test)\n",
        "\n",
        "y_preds = np.exp(results_pol.predict(df_pol_test))\n",
        "sns.set(color_codes=True)\n",
        "plt.scatter(exp_ytest, y_preds)\n",
        "plt.plot(exp_ytest, exp_ytest, color=\"red\")\n",
        "plt.xlabel(\"Actual ltv\")\n",
        "plt.ylabel(\"Estimated ltv\", )\n",
        "plt.title(\"Actual vs Estimated Customer LTV-Polynomial Features-Exp\")\n",
        "plt.show()\n"
      ],
      "execution_count": 50,
      "outputs": [
        {
          "output_type": "display_data",
          "data": {
            "text/plain": [
              "<Figure size 432x288 with 1 Axes>"
            ],
            "image/png": "[encoded data removed]"
          },
          "metadata": {}
        }
      ]
    },
    {
      "metadata": {
        "id": "i-Zje1WYt7GY"
      },
      "cell_type": "markdown",
      "source": [
        "Skor aktual dan skor prediksi memiliki linearitas yang baik tetapi setelah beberapa titik terlihat bahwa linearitas tersebut tidak cukup baik. Pada grafik, terlihat bahwa prediksi nilai clv pelanggan lebih baik dengan nilai lebih rendah dari 10.000. "
      ]
    },
    {
      "metadata": {
        "trusted": false,
        "colab": {
          "base_uri": "https://localhost:8080/"
        },
        "id": "OYOMvwfkt7GY",
        "outputId": "f6915451-a7f0-454a-b711-39f74e471b65"
      },
      "cell_type": "code",
      "source": [
        "mse( y_test[y_test<10],y_preds[y_test<10])"
      ],
      "execution_count": 51,
      "outputs": [
        {
          "output_type": "execute_result",
          "data": {
            "text/plain": [
              "67993966.32574446"
            ]
          },
          "metadata": {},
          "execution_count": 51
        }
      ]
    },
    {
      "metadata": {
        "id": "zc3wJwf-t7GZ"
      },
      "cell_type": "markdown",
      "source": [
        "Terlihat bahwa Mean Sq. Error menurun dari 0,04 menjadi 0,02 yang hampir setengah dari error awal."
      ]
    },
    {
      "cell_type": "markdown",
      "source": [
        "## Model Linear Regression"
      ],
      "metadata": {
        "id": "X1nK0X3xWCy6"
      }
    },
    {
      "cell_type": "markdown",
      "source": [
        "Algoritma Linear Regression menggunakan prinsip regresi. Regresi membuat model prediksi untuk target variabel berdasarkan dari variabel bebasnya. Jenis algoritma ini sering digunakan untuk mencari hubungan antara variabel-variabel yang ada dan prediksinya. Sehingga pada linear regression, ditujukan untuk melakukan prediksi pada variabel terikat (y) berdasarkan variabel bebas yang diberikan (x). Hasil akhirnya berupa hubungan linear antara variabel input (x) dengan variabel output(y). \n",
        "\n",
        "Linear regression memiliki beberapa kelebihan jika digunakan untuk memprediksi suatu model. Berikut beberapa kelebihan dari linear regression:\n",
        "\n",
        "1. Mudah diimplementasikan dan diinterpretasikan. Hal ini karena linear regression hanya melihat keterhubungan dari variabel input (x) dan variabel output (y) saja.\n",
        "\n",
        "2. Menghasilkan model prediksi yang paling akurat untuk data yang bersifat linear.\n",
        "\n",
        "3. Mudah untuk dilakukan evaluasi dan memiliki beragam metode atau metriks yang mudah diterapkan"
      ],
      "metadata": {
        "id": "tIoLOk3g4l9F"
      }
    },
    {
      "metadata": {
        "id": "fHG17_vlt7Ge"
      },
      "cell_type": "markdown",
      "source": [
        "Let's check the test /train data prediction if there is underfitting/overfitting problem"
      ]
    },
    {
      "metadata": {
        "trusted": false,
        "id": "PZl3-ZBjt7Gf",
        "colab": {
          "base_uri": "https://localhost:8080/"
        },
        "outputId": "21b340c1-954e-4690-bdc1-849d54e2b477"
      },
      "cell_type": "code",
      "source": [
        "lrm = LinearRegression()\n",
        "lrm.fit(df_pol_train, y_train)\n",
        "\n",
        "y_train_predict = lrm.predict(df_pol_train)\n",
        "y_test_predict = lrm.predict(df_pol_test)\n",
        "\n",
        "print(\"Train observation number  : {}\".format(df_pol_train.shape[0]))\n",
        "print(\"Test observation number   : {}\".format(df_pol_test.shape[0]), \"\\n\")\n",
        "\n",
        "print(\"Train R-Square  : {}\".format(lrm.score(df_pol_train, y_train)))\n",
        "print(\"-----Test Scores---\")\n",
        "print(\"Test R-Square   : {}\".format(lrm.score(df_pol_test, y_test)))\n",
        "print(\"Mean_absolute_error (MAE)             : {}\".format(mean_absolute_error(y_test, y_test_predict)))\n",
        "print(\"Mean squared error (MSE)              : {}\".format(mse(y_test, y_test_predict)))\n",
        "print(\"Root mean squared error(RMSE)         : {}\".format(rmse(y_test, y_test_predict)))\n",
        "print(\"Mean absolute percentage error (MAPE) : {}\".format(np.mean(np.abs((y_test - y_test_predict) / y_test)) * 100))"
      ],
      "execution_count": 52,
      "outputs": [
        {
          "output_type": "stream",
          "name": "stdout",
          "text": [
            "Train observation number  : 4251\n",
            "Test observation number   : 1418 \n",
            "\n",
            "Train R-Square  : 0.907115762303218\n",
            "-----Test Scores---\n",
            "Test R-Square   : 0.9011479854827954\n",
            "Mean_absolute_error (MAE)             : 0.11051159739729226\n",
            "Mean squared error (MSE)              : 0.043523496092175935\n",
            "Root mean squared error(RMSE)         : 0.20862285611163495\n",
            "Mean absolute percentage error (MAPE) : 1.1750104671269639\n"
          ]
        }
      ]
    },
    {
      "metadata": {
        "trusted": false,
        "id": "Qyqu9HmYt7Gf",
        "colab": {
          "base_uri": "https://localhost:8080/",
          "height": 395
        },
        "outputId": "39278be1-9df4-4405-ead2-c0ca5611c1ce"
      },
      "cell_type": "code",
      "source": [
        "from sklearn.model_selection import train_test_split\n",
        "from sklearn.linear_model import Lasso\n",
        "from yellowbrick.datasets import load_concrete\n",
        "from yellowbrick.regressor import PredictionError\n",
        "\n",
        "\n",
        "# Create the train and test data\n",
        "df_pol_train, df_pol_test, y_train, y_test = train_test_split(df_pol, y, test_size = 0.25, random_state = 450)\n",
        "\n",
        "# Instantiate the linear model and visualizer\n",
        "model = Lasso()\n",
        "visualizer = PredictionError(model)\n",
        "\n",
        "visualizer.fit(df_pol_train, y_train)  # Fit the training data to the visualizer\n",
        "visualizer.score(df_pol_test, y_test)  # Evaluate the model on the test data\n",
        "visualizer.show()                 # Finalize and render the figure"
      ],
      "execution_count": 53,
      "outputs": [
        {
          "output_type": "display_data",
          "data": {
            "text/plain": [
              "<Figure size 576x396 with 1 Axes>"
            ],
            "image/png": "[encoded data removed]"
          },
          "metadata": {}
        },
        {
          "output_type": "execute_result",
          "data": {
            "text/plain": [
              "<matplotlib.axes._subplots.AxesSubplot at 0x7f6421230f40>"
            ]
          },
          "metadata": {},
          "execution_count": 53
        }
      ]
    },
    {
      "metadata": {
        "trusted": false,
        "id": "Y1ExBL_It7Gg",
        "colab": {
          "base_uri": "https://localhost:8080/",
          "height": 393
        },
        "outputId": "20c391a1-67ff-4952-f76f-8cd1e1f152e7"
      },
      "cell_type": "code",
      "source": [
        "from sklearn.model_selection import train_test_split\n",
        "from sklearn.linear_model import Ridge\n",
        "from yellowbrick.datasets import load_concrete\n",
        "from yellowbrick.regressor import ResidualsPlot\n",
        "\n",
        "\n",
        "# Instantiate the linear model and visualizer\n",
        "Model = Ridge()\n",
        "visualizer_residual = ResidualsPlot(Model)\n",
        "\n",
        "visualizer_residual.fit(df_pol_train, y_train)  # Fit the training data to the visualizer\n",
        "visualizer_residual.score(df_pol_test, y_test)  # Evaluate the model on the test data\n",
        "visualizer_residual.show()                 # Finaliz"
      ],
      "execution_count": 54,
      "outputs": [
        {
          "output_type": "display_data",
          "data": {
            "text/plain": [
              "<Figure size 576x396 with 2 Axes>"
            ],
            "image/png": "[encoded data removed]"
          },
          "metadata": {}
        },
        {
          "output_type": "execute_result",
          "data": {
            "text/plain": [
              "<matplotlib.axes._subplots.AxesSubplot at 0x7f6421859d60>"
            ]
          },
          "metadata": {},
          "execution_count": 54
        }
      ]
    },
    {
      "metadata": {
        "id": "CRGFBqzDt7Gg"
      },
      "cell_type": "markdown",
      "source": [
        "# Conclusion"
      ]
    },
    {
      "cell_type": "markdown",
      "source": [
        "Setelah membuat enam model berbeda untuk mencapai model terbaik dengan R-square tertinggi dan error lebih rendah.\n",
        "\n",
        "Berdasarkan tabel perbandingan, kita dapat memilih menggunakan model ke-5 yang memiliki transformasi log, wih outlier dan fitur polinomial. Kemudian dari data model ke-5 diaplikasikan algoritma Linear Regression. Dimana memiliki hasil R square adalah 0,91 berarti 91% varian dapat dijelaskan, yang sangat tinggi. Dan nilai error yang rendah.\n",
        "\n",
        "Skor aktual dan skor prediksi memiliki linearitas yang baik tetapi setelah beberapa titik terlihat bahwa linearitas tersebut tidak cukup baik. Pada grafik terlihat bahwa prediksi nilai CLV pelanggan lebih baik dengan nilai lebih rendah dari 10.000. \n",
        "\n",
        "Tidak terdapat masalah overfitting dan underfitting pada model, tetapi tetap memeriksa model Lasso dan Ridge untuk melihat apakah ada perubahan pada modelnya. Dan model dibangun dengan sangat baik."
      ],
      "metadata": {
        "id": "L4rJP8NvnaBC"
      }
    },
    {
      "cell_type": "markdown",
      "source": [
        "# Rocemmendation"
      ],
      "metadata": {
        "id": "T6mGwHz_BdI7"
      }
    },
    {
      "cell_type": "markdown",
      "source": [
        "- Model dapat mengcapture dengan sangat baik untuk predict CLV, tetapi untuk permodelan dapat menggunakan algoritma yang lainnya untuk mengetahui perbandingannya.\n",
        "\n",
        "- Dengan predict CLV dari permodelan ini, dapat mengetahui CLV dari pelanggan. Informasi terssebut dapat digunakan sebagai strategi pemasaran perusahaan yang lebih optimal. Dengan CLV juga dapat dijadikan sebagai pertimbangan perusahaan dalam melakukan segmentasi pelanggan dan memberikan pelayanan yang sesuai."
      ],
      "metadata": {
        "id": "laTEiAlkBkma"
      }
    },
    {
      "cell_type": "markdown",
      "source": [
        "# Save Model"
      ],
      "metadata": {
        "id": "eclpbc6j-BZu"
      }
    },
    {
      "cell_type": "code",
      "source": [
        "import pickle"
      ],
      "metadata": {
        "id": "YndciNi07udk"
      },
      "execution_count": 55,
      "outputs": []
    },
    {
      "cell_type": "code",
      "source": [
        "filename = 'finalized_modellrm.sav'\n",
        "pickle.dump(lrm, open(filename, 'wb'))"
      ],
      "metadata": {
        "id": "2Ah1G8hP5M01"
      },
      "execution_count": 56,
      "outputs": []
    },
    {
      "cell_type": "code",
      "source": [
        "loaded_model = pickle.load(open(filename, 'rb'))\n",
        "result = loaded_model.score(df_pol_test, y_test)\n",
        "print(result)"
      ],
      "metadata": {
        "colab": {
          "base_uri": "https://localhost:8080/"
        },
        "id": "lSKZku4c9UsJ",
        "outputId": "dbf3946a-d6d0-48b1-9c27-892959c80873"
      },
      "execution_count": 58,
      "outputs": [
        {
          "output_type": "stream",
          "name": "stdout",
          "text": [
            "0.9011479854827954\n"
          ]
        }
      ]
    }
  ],
  "metadata": {
    "kernelspec": {
      "language": "python",
      "display_name": "Python 3",
      "name": "python3"
    },
    "language_info": {
      "pygments_lexer": "ipython3",
      "nbconvert_exporter": "python",
      "version": "3.6.4",
      "file_extension": ".py",
      "codemirror_mode": {
        "name": "ipython",
        "version": 3
      },
      "name": "python",
      "mimetype": "text/x-python"
    },
    "colab": {
      "provenance": [],
      "toc_visible": true
    }
  },
  "nbformat": 4,
  "nbformat_minor": 0
}